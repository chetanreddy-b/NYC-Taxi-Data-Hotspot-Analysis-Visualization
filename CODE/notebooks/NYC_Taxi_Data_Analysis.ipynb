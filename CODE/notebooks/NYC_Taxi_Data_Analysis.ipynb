{
 "cells": [
  {
   "cell_type": "markdown",
   "metadata": {},
   "source": [
    "## Load Libraries"
   ]
  },
  {
   "cell_type": "code",
   "execution_count": 32,
   "metadata": {},
   "outputs": [],
   "source": [
    "import pandas as pd\n",
    "import numpy as np\n",
    "\n",
    "import matplotlib.pyplot as plt\n",
    "import seaborn as sns\n",
    "import streamlit as st\n",
    "import geopandas as gpd\n",
    "import plotly.express as px\n",
    "import plotly.graph_objects as go\n",
    "\n",
    "\n",
    "import warnings \n",
    "warnings.filterwarnings(\"ignore\")\n",
    "\n",
    "pd.set_option(\"display.max_columns\", 30)\n",
    "color = sns.color_palette(\"Paired\")\n",
    "scale = 'coolwarm_r'"
   ]
  },
  {
   "cell_type": "markdown",
   "metadata": {},
   "source": [
    "## Load Dataset"
   ]
  },
  {
   "cell_type": "code",
   "execution_count": 33,
   "metadata": {},
   "outputs": [],
   "source": [
    "with open(r\"data\\cleaned\\NYC TLC Trip Record - Clean.csv\", \"r\") as file:\n",
    "    clean_data = pd.read_csv(file)"
   ]
  },
  {
   "cell_type": "code",
   "execution_count": 34,
   "metadata": {},
   "outputs": [
    {
     "data": {
      "text/html": [
       "<div>\n",
       "<style scoped>\n",
       "    .dataframe tbody tr th:only-of-type {\n",
       "        vertical-align: middle;\n",
       "    }\n",
       "\n",
       "    .dataframe tbody tr th {\n",
       "        vertical-align: top;\n",
       "    }\n",
       "\n",
       "    .dataframe thead th {\n",
       "        text-align: right;\n",
       "    }\n",
       "</style>\n",
       "<table border=\"1\" class=\"dataframe\">\n",
       "  <thead>\n",
       "    <tr style=\"text-align: right;\">\n",
       "      <th></th>\n",
       "      <th>lpep_pickup_datetime</th>\n",
       "      <th>lpep_dropoff_datetime</th>\n",
       "      <th>day_category</th>\n",
       "      <th>pickup_time</th>\n",
       "      <th>RatecodeID</th>\n",
       "      <th>PULocationID</th>\n",
       "      <th>PUBorough</th>\n",
       "      <th>PUZone</th>\n",
       "      <th>DOLocationID</th>\n",
       "      <th>DOBorough</th>\n",
       "      <th>DOZone</th>\n",
       "      <th>passenger_count</th>\n",
       "      <th>trip_distance</th>\n",
       "      <th>distance_bins</th>\n",
       "      <th>fare_amount</th>\n",
       "      <th>fare_amount_bins</th>\n",
       "      <th>tip_amount</th>\n",
       "      <th>tip_amount_bins</th>\n",
       "      <th>payment_type</th>\n",
       "      <th>trip_type</th>\n",
       "      <th>trip_duration</th>\n",
       "      <th>duration_bins</th>\n",
       "      <th>speed</th>\n",
       "      <th>speed_bins</th>\n",
       "    </tr>\n",
       "  </thead>\n",
       "  <tbody>\n",
       "    <tr>\n",
       "      <th>0</th>\n",
       "      <td>2023-01-01 00:26:10</td>\n",
       "      <td>2023-01-01 00:37:11</td>\n",
       "      <td>Weekend</td>\n",
       "      <td>Midnight</td>\n",
       "      <td>Standard rate</td>\n",
       "      <td>166</td>\n",
       "      <td>Manhattan</td>\n",
       "      <td>Morningside Heights</td>\n",
       "      <td>143</td>\n",
       "      <td>Manhattan</td>\n",
       "      <td>Lincoln Square West</td>\n",
       "      <td>1.0</td>\n",
       "      <td>2.58</td>\n",
       "      <td>3-6 miles</td>\n",
       "      <td>14.9</td>\n",
       "      <td>&lt;20$</td>\n",
       "      <td>4.03</td>\n",
       "      <td>1-5$</td>\n",
       "      <td>Credit card</td>\n",
       "      <td>Street-hail</td>\n",
       "      <td>11.02</td>\n",
       "      <td>11-20 minutes</td>\n",
       "      <td>14.05</td>\n",
       "      <td>11-20 mph</td>\n",
       "    </tr>\n",
       "    <tr>\n",
       "      <th>1</th>\n",
       "      <td>2023-01-01 00:51:03</td>\n",
       "      <td>2023-01-01 00:57:49</td>\n",
       "      <td>Weekend</td>\n",
       "      <td>Midnight</td>\n",
       "      <td>Standard rate</td>\n",
       "      <td>24</td>\n",
       "      <td>Manhattan</td>\n",
       "      <td>Bloomingdale</td>\n",
       "      <td>43</td>\n",
       "      <td>Manhattan</td>\n",
       "      <td>Central Park</td>\n",
       "      <td>1.0</td>\n",
       "      <td>1.81</td>\n",
       "      <td>&lt;2 miles</td>\n",
       "      <td>10.7</td>\n",
       "      <td>&lt;20$</td>\n",
       "      <td>2.64</td>\n",
       "      <td>1-5$</td>\n",
       "      <td>Credit card</td>\n",
       "      <td>Street-hail</td>\n",
       "      <td>6.77</td>\n",
       "      <td>&lt;10 minutes</td>\n",
       "      <td>16.04</td>\n",
       "      <td>11-20 mph</td>\n",
       "    </tr>\n",
       "    <tr>\n",
       "      <th>2</th>\n",
       "      <td>2023-01-01 00:13:14</td>\n",
       "      <td>2023-01-01 00:19:03</td>\n",
       "      <td>Weekend</td>\n",
       "      <td>Midnight</td>\n",
       "      <td>Standard rate</td>\n",
       "      <td>41</td>\n",
       "      <td>Manhattan</td>\n",
       "      <td>Central Harlem</td>\n",
       "      <td>238</td>\n",
       "      <td>Manhattan</td>\n",
       "      <td>Upper West Side North</td>\n",
       "      <td>1.0</td>\n",
       "      <td>1.30</td>\n",
       "      <td>&lt;2 miles</td>\n",
       "      <td>6.5</td>\n",
       "      <td>&lt;20$</td>\n",
       "      <td>1.70</td>\n",
       "      <td>1-5$</td>\n",
       "      <td>Credit card</td>\n",
       "      <td>Street-hail</td>\n",
       "      <td>5.82</td>\n",
       "      <td>&lt;10 minutes</td>\n",
       "      <td>13.40</td>\n",
       "      <td>11-20 mph</td>\n",
       "    </tr>\n",
       "    <tr>\n",
       "      <th>3</th>\n",
       "      <td>2023-01-01 00:33:04</td>\n",
       "      <td>2023-01-01 00:39:02</td>\n",
       "      <td>Weekend</td>\n",
       "      <td>Midnight</td>\n",
       "      <td>Standard rate</td>\n",
       "      <td>41</td>\n",
       "      <td>Manhattan</td>\n",
       "      <td>Central Harlem</td>\n",
       "      <td>74</td>\n",
       "      <td>Manhattan</td>\n",
       "      <td>East Harlem North</td>\n",
       "      <td>1.0</td>\n",
       "      <td>1.10</td>\n",
       "      <td>&lt;2 miles</td>\n",
       "      <td>6.0</td>\n",
       "      <td>&lt;20$</td>\n",
       "      <td>0.00</td>\n",
       "      <td>0$</td>\n",
       "      <td>Credit card</td>\n",
       "      <td>Street-hail</td>\n",
       "      <td>5.97</td>\n",
       "      <td>&lt;10 minutes</td>\n",
       "      <td>11.06</td>\n",
       "      <td>11-20 mph</td>\n",
       "    </tr>\n",
       "    <tr>\n",
       "      <th>4</th>\n",
       "      <td>2023-01-01 00:53:31</td>\n",
       "      <td>2023-01-01 01:11:04</td>\n",
       "      <td>Weekend</td>\n",
       "      <td>Midnight</td>\n",
       "      <td>Standard rate</td>\n",
       "      <td>41</td>\n",
       "      <td>Manhattan</td>\n",
       "      <td>Central Harlem</td>\n",
       "      <td>262</td>\n",
       "      <td>Manhattan</td>\n",
       "      <td>Yorkville East</td>\n",
       "      <td>1.0</td>\n",
       "      <td>2.78</td>\n",
       "      <td>3-6 miles</td>\n",
       "      <td>17.7</td>\n",
       "      <td>&lt;20$</td>\n",
       "      <td>0.00</td>\n",
       "      <td>0$</td>\n",
       "      <td>Cash</td>\n",
       "      <td>Street-hail</td>\n",
       "      <td>17.55</td>\n",
       "      <td>11-20 minutes</td>\n",
       "      <td>9.50</td>\n",
       "      <td>&lt;10 mph</td>\n",
       "    </tr>\n",
       "  </tbody>\n",
       "</table>\n",
       "</div>"
      ],
      "text/plain": [
       "  lpep_pickup_datetime lpep_dropoff_datetime day_category pickup_time  \\\n",
       "0  2023-01-01 00:26:10   2023-01-01 00:37:11      Weekend    Midnight   \n",
       "1  2023-01-01 00:51:03   2023-01-01 00:57:49      Weekend    Midnight   \n",
       "2  2023-01-01 00:13:14   2023-01-01 00:19:03      Weekend    Midnight   \n",
       "3  2023-01-01 00:33:04   2023-01-01 00:39:02      Weekend    Midnight   \n",
       "4  2023-01-01 00:53:31   2023-01-01 01:11:04      Weekend    Midnight   \n",
       "\n",
       "      RatecodeID  PULocationID  PUBorough               PUZone  DOLocationID  \\\n",
       "0  Standard rate           166  Manhattan  Morningside Heights           143   \n",
       "1  Standard rate            24  Manhattan         Bloomingdale            43   \n",
       "2  Standard rate            41  Manhattan       Central Harlem           238   \n",
       "3  Standard rate            41  Manhattan       Central Harlem            74   \n",
       "4  Standard rate            41  Manhattan       Central Harlem           262   \n",
       "\n",
       "   DOBorough                 DOZone passenger_count  trip_distance  \\\n",
       "0  Manhattan    Lincoln Square West             1.0           2.58   \n",
       "1  Manhattan           Central Park             1.0           1.81   \n",
       "2  Manhattan  Upper West Side North             1.0           1.30   \n",
       "3  Manhattan      East Harlem North             1.0           1.10   \n",
       "4  Manhattan         Yorkville East             1.0           2.78   \n",
       "\n",
       "  distance_bins  fare_amount fare_amount_bins  tip_amount tip_amount_bins  \\\n",
       "0     3-6 miles         14.9             <20$        4.03            1-5$   \n",
       "1      <2 miles         10.7             <20$        2.64            1-5$   \n",
       "2      <2 miles          6.5             <20$        1.70            1-5$   \n",
       "3      <2 miles          6.0             <20$        0.00              0$   \n",
       "4     3-6 miles         17.7             <20$        0.00              0$   \n",
       "\n",
       "  payment_type    trip_type  trip_duration  duration_bins  speed speed_bins  \n",
       "0  Credit card  Street-hail          11.02  11-20 minutes  14.05  11-20 mph  \n",
       "1  Credit card  Street-hail           6.77    <10 minutes  16.04  11-20 mph  \n",
       "2  Credit card  Street-hail           5.82    <10 minutes  13.40  11-20 mph  \n",
       "3  Credit card  Street-hail           5.97    <10 minutes  11.06  11-20 mph  \n",
       "4         Cash  Street-hail          17.55  11-20 minutes   9.50    <10 mph  "
      ]
     },
     "execution_count": 34,
     "metadata": {},
     "output_type": "execute_result"
    }
   ],
   "source": [
    "df = clean_data.copy()\n",
    "df.head()"
   ]
  },
  {
   "cell_type": "markdown",
   "metadata": {},
   "source": [
    "## Skimming"
   ]
  },
  {
   "cell_type": "code",
   "execution_count": 35,
   "metadata": {},
   "outputs": [
    {
     "data": {
      "text/html": [
       "<div>\n",
       "<style scoped>\n",
       "    .dataframe tbody tr th:only-of-type {\n",
       "        vertical-align: middle;\n",
       "    }\n",
       "\n",
       "    .dataframe tbody tr th {\n",
       "        vertical-align: top;\n",
       "    }\n",
       "\n",
       "    .dataframe thead th {\n",
       "        text-align: right;\n",
       "    }\n",
       "</style>\n",
       "<table border=\"1\" class=\"dataframe\">\n",
       "  <thead>\n",
       "    <tr style=\"text-align: right;\">\n",
       "      <th></th>\n",
       "      <th>feature</th>\n",
       "      <th>data_type</th>\n",
       "      <th>null_value(%)</th>\n",
       "      <th>neg_value(%)</th>\n",
       "      <th>0_value(%)</th>\n",
       "      <th>duplicate</th>\n",
       "      <th>n_unique</th>\n",
       "      <th>sample_unique</th>\n",
       "    </tr>\n",
       "  </thead>\n",
       "  <tbody>\n",
       "    <tr>\n",
       "      <th>0</th>\n",
       "      <td>lpep_pickup_datetime</td>\n",
       "      <td>object</td>\n",
       "      <td>0.0</td>\n",
       "      <td>0.0</td>\n",
       "      <td>0.000</td>\n",
       "      <td>0</td>\n",
       "      <td>59508</td>\n",
       "      <td>[2023-01-01 00:26:10, 2023-01-01 00:51:03, 202...</td>\n",
       "    </tr>\n",
       "    <tr>\n",
       "      <th>1</th>\n",
       "      <td>lpep_dropoff_datetime</td>\n",
       "      <td>object</td>\n",
       "      <td>0.0</td>\n",
       "      <td>0.0</td>\n",
       "      <td>0.000</td>\n",
       "      <td>0</td>\n",
       "      <td>59493</td>\n",
       "      <td>[2023-01-01 00:37:11, 2023-01-01 00:57:49, 202...</td>\n",
       "    </tr>\n",
       "    <tr>\n",
       "      <th>2</th>\n",
       "      <td>day_category</td>\n",
       "      <td>object</td>\n",
       "      <td>0.0</td>\n",
       "      <td>0.0</td>\n",
       "      <td>0.000</td>\n",
       "      <td>0</td>\n",
       "      <td>2</td>\n",
       "      <td>[Weekend, Weekdays]</td>\n",
       "    </tr>\n",
       "    <tr>\n",
       "      <th>3</th>\n",
       "      <td>pickup_time</td>\n",
       "      <td>object</td>\n",
       "      <td>0.0</td>\n",
       "      <td>0.0</td>\n",
       "      <td>0.000</td>\n",
       "      <td>0</td>\n",
       "      <td>5</td>\n",
       "      <td>[Midnight, Morning, Noon, Evening, Night]</td>\n",
       "    </tr>\n",
       "    <tr>\n",
       "      <th>4</th>\n",
       "      <td>RatecodeID</td>\n",
       "      <td>object</td>\n",
       "      <td>0.0</td>\n",
       "      <td>0.0</td>\n",
       "      <td>0.000</td>\n",
       "      <td>0</td>\n",
       "      <td>4</td>\n",
       "      <td>[Standard rate, Negotiated fare, JFK Airport, ...</td>\n",
       "    </tr>\n",
       "    <tr>\n",
       "      <th>5</th>\n",
       "      <td>PULocationID</td>\n",
       "      <td>int64</td>\n",
       "      <td>0.0</td>\n",
       "      <td>0.0</td>\n",
       "      <td>0.000</td>\n",
       "      <td>0</td>\n",
       "      <td>192</td>\n",
       "      <td>[166, 24, 41, 181, 255, 75, 66, 195, 83, 97, 7...</td>\n",
       "    </tr>\n",
       "    <tr>\n",
       "      <th>6</th>\n",
       "      <td>PUBorough</td>\n",
       "      <td>object</td>\n",
       "      <td>0.0</td>\n",
       "      <td>0.0</td>\n",
       "      <td>0.000</td>\n",
       "      <td>0</td>\n",
       "      <td>5</td>\n",
       "      <td>[Manhattan, Brooklyn, Queens, Bronx, Staten Is...</td>\n",
       "    </tr>\n",
       "    <tr>\n",
       "      <th>7</th>\n",
       "      <td>PUZone</td>\n",
       "      <td>object</td>\n",
       "      <td>0.0</td>\n",
       "      <td>0.0</td>\n",
       "      <td>0.000</td>\n",
       "      <td>0</td>\n",
       "      <td>191</td>\n",
       "      <td>[Morningside Heights, Bloomingdale, Central Ha...</td>\n",
       "    </tr>\n",
       "    <tr>\n",
       "      <th>8</th>\n",
       "      <td>DOLocationID</td>\n",
       "      <td>int64</td>\n",
       "      <td>0.0</td>\n",
       "      <td>0.0</td>\n",
       "      <td>0.000</td>\n",
       "      <td>0</td>\n",
       "      <td>243</td>\n",
       "      <td>[143, 43, 238, 74, 262, 45, 75, 166, 140, 234,...</td>\n",
       "    </tr>\n",
       "    <tr>\n",
       "      <th>9</th>\n",
       "      <td>DOBorough</td>\n",
       "      <td>object</td>\n",
       "      <td>0.0</td>\n",
       "      <td>0.0</td>\n",
       "      <td>0.000</td>\n",
       "      <td>0</td>\n",
       "      <td>6</td>\n",
       "      <td>[Manhattan, Brooklyn, Queens, Bronx, EWR, Stat...</td>\n",
       "    </tr>\n",
       "    <tr>\n",
       "      <th>10</th>\n",
       "      <td>DOZone</td>\n",
       "      <td>object</td>\n",
       "      <td>0.0</td>\n",
       "      <td>0.0</td>\n",
       "      <td>0.000</td>\n",
       "      <td>0</td>\n",
       "      <td>242</td>\n",
       "      <td>[Lincoln Square West, Central Park, Upper West...</td>\n",
       "    </tr>\n",
       "    <tr>\n",
       "      <th>11</th>\n",
       "      <td>passenger_count</td>\n",
       "      <td>object</td>\n",
       "      <td>0.0</td>\n",
       "      <td>0.0</td>\n",
       "      <td>0.000</td>\n",
       "      <td>0</td>\n",
       "      <td>4</td>\n",
       "      <td>[1.0, 2.0, &gt;3, 3.0]</td>\n",
       "    </tr>\n",
       "    <tr>\n",
       "      <th>12</th>\n",
       "      <td>trip_distance</td>\n",
       "      <td>float64</td>\n",
       "      <td>0.0</td>\n",
       "      <td>0.0</td>\n",
       "      <td>0.000</td>\n",
       "      <td>0</td>\n",
       "      <td>1704</td>\n",
       "      <td>[2.58, 1.81, 1.3, 1.1, 2.78, 3.8, 1.88, 1.11, ...</td>\n",
       "    </tr>\n",
       "    <tr>\n",
       "      <th>13</th>\n",
       "      <td>distance_bins</td>\n",
       "      <td>object</td>\n",
       "      <td>0.0</td>\n",
       "      <td>0.0</td>\n",
       "      <td>0.000</td>\n",
       "      <td>0</td>\n",
       "      <td>4</td>\n",
       "      <td>[3-6 miles, &lt;2 miles, 7-10 miles, &gt;10 miles]</td>\n",
       "    </tr>\n",
       "    <tr>\n",
       "      <th>14</th>\n",
       "      <td>fare_amount</td>\n",
       "      <td>float64</td>\n",
       "      <td>0.0</td>\n",
       "      <td>0.0</td>\n",
       "      <td>0.000</td>\n",
       "      <td>0</td>\n",
       "      <td>2328</td>\n",
       "      <td>[14.9, 10.7, 6.5, 6.0, 17.7, 19.1, 14.2, 7.2, ...</td>\n",
       "    </tr>\n",
       "    <tr>\n",
       "      <th>15</th>\n",
       "      <td>fare_amount_bins</td>\n",
       "      <td>object</td>\n",
       "      <td>0.0</td>\n",
       "      <td>0.0</td>\n",
       "      <td>0.000</td>\n",
       "      <td>0</td>\n",
       "      <td>4</td>\n",
       "      <td>[&lt;20$, 21-40$, 41-60$, &gt;60$]</td>\n",
       "    </tr>\n",
       "    <tr>\n",
       "      <th>16</th>\n",
       "      <td>tip_amount</td>\n",
       "      <td>float64</td>\n",
       "      <td>0.0</td>\n",
       "      <td>0.0</td>\n",
       "      <td>39.018</td>\n",
       "      <td>0</td>\n",
       "      <td>1413</td>\n",
       "      <td>[4.03, 2.64, 1.7, 0.0, 4.85, 1.0, 3.0, 3.33, 4...</td>\n",
       "    </tr>\n",
       "    <tr>\n",
       "      <th>17</th>\n",
       "      <td>tip_amount_bins</td>\n",
       "      <td>object</td>\n",
       "      <td>0.0</td>\n",
       "      <td>0.0</td>\n",
       "      <td>0.000</td>\n",
       "      <td>0</td>\n",
       "      <td>5</td>\n",
       "      <td>[1-5$, 0$, 11-15$, 6-10$, &gt;15$]</td>\n",
       "    </tr>\n",
       "    <tr>\n",
       "      <th>18</th>\n",
       "      <td>payment_type</td>\n",
       "      <td>object</td>\n",
       "      <td>0.0</td>\n",
       "      <td>0.0</td>\n",
       "      <td>0.000</td>\n",
       "      <td>0</td>\n",
       "      <td>5</td>\n",
       "      <td>[Credit card, Cash, No charge, Dispute, Unknown]</td>\n",
       "    </tr>\n",
       "    <tr>\n",
       "      <th>19</th>\n",
       "      <td>trip_type</td>\n",
       "      <td>object</td>\n",
       "      <td>0.0</td>\n",
       "      <td>0.0</td>\n",
       "      <td>0.000</td>\n",
       "      <td>0</td>\n",
       "      <td>2</td>\n",
       "      <td>[Street-hail, Dispatch]</td>\n",
       "    </tr>\n",
       "    <tr>\n",
       "      <th>20</th>\n",
       "      <td>trip_duration</td>\n",
       "      <td>float64</td>\n",
       "      <td>0.0</td>\n",
       "      <td>0.0</td>\n",
       "      <td>0.000</td>\n",
       "      <td>0</td>\n",
       "      <td>3121</td>\n",
       "      <td>[11.02, 6.77, 5.82, 5.97, 17.55, 17.42, 12.95,...</td>\n",
       "    </tr>\n",
       "    <tr>\n",
       "      <th>21</th>\n",
       "      <td>duration_bins</td>\n",
       "      <td>object</td>\n",
       "      <td>0.0</td>\n",
       "      <td>0.0</td>\n",
       "      <td>0.000</td>\n",
       "      <td>0</td>\n",
       "      <td>4</td>\n",
       "      <td>[11-20 minutes, &lt;10 minutes, 21-30 minutes, &gt;3...</td>\n",
       "    </tr>\n",
       "    <tr>\n",
       "      <th>22</th>\n",
       "      <td>speed</td>\n",
       "      <td>float64</td>\n",
       "      <td>0.0</td>\n",
       "      <td>0.0</td>\n",
       "      <td>0.000</td>\n",
       "      <td>0</td>\n",
       "      <td>2984</td>\n",
       "      <td>[14.05, 16.04, 13.4, 11.06, 9.5, 13.09, 8.71, ...</td>\n",
       "    </tr>\n",
       "    <tr>\n",
       "      <th>23</th>\n",
       "      <td>speed_bins</td>\n",
       "      <td>object</td>\n",
       "      <td>0.0</td>\n",
       "      <td>0.0</td>\n",
       "      <td>0.000</td>\n",
       "      <td>0</td>\n",
       "      <td>4</td>\n",
       "      <td>[11-20 mph, &lt;10 mph, 21-30 mph, &gt;30 mph]</td>\n",
       "    </tr>\n",
       "  </tbody>\n",
       "</table>\n",
       "</div>"
      ],
      "text/plain": [
       "                  feature data_type  null_value(%)  neg_value(%)  0_value(%)  \\\n",
       "0    lpep_pickup_datetime    object            0.0           0.0       0.000   \n",
       "1   lpep_dropoff_datetime    object            0.0           0.0       0.000   \n",
       "2            day_category    object            0.0           0.0       0.000   \n",
       "3             pickup_time    object            0.0           0.0       0.000   \n",
       "4              RatecodeID    object            0.0           0.0       0.000   \n",
       "5            PULocationID     int64            0.0           0.0       0.000   \n",
       "6               PUBorough    object            0.0           0.0       0.000   \n",
       "7                  PUZone    object            0.0           0.0       0.000   \n",
       "8            DOLocationID     int64            0.0           0.0       0.000   \n",
       "9               DOBorough    object            0.0           0.0       0.000   \n",
       "10                 DOZone    object            0.0           0.0       0.000   \n",
       "11        passenger_count    object            0.0           0.0       0.000   \n",
       "12          trip_distance   float64            0.0           0.0       0.000   \n",
       "13          distance_bins    object            0.0           0.0       0.000   \n",
       "14            fare_amount   float64            0.0           0.0       0.000   \n",
       "15       fare_amount_bins    object            0.0           0.0       0.000   \n",
       "16             tip_amount   float64            0.0           0.0      39.018   \n",
       "17        tip_amount_bins    object            0.0           0.0       0.000   \n",
       "18           payment_type    object            0.0           0.0       0.000   \n",
       "19              trip_type    object            0.0           0.0       0.000   \n",
       "20          trip_duration   float64            0.0           0.0       0.000   \n",
       "21          duration_bins    object            0.0           0.0       0.000   \n",
       "22                  speed   float64            0.0           0.0       0.000   \n",
       "23             speed_bins    object            0.0           0.0       0.000   \n",
       "\n",
       "    duplicate  n_unique                                      sample_unique  \n",
       "0           0     59508  [2023-01-01 00:26:10, 2023-01-01 00:51:03, 202...  \n",
       "1           0     59493  [2023-01-01 00:37:11, 2023-01-01 00:57:49, 202...  \n",
       "2           0         2                                [Weekend, Weekdays]  \n",
       "3           0         5          [Midnight, Morning, Noon, Evening, Night]  \n",
       "4           0         4  [Standard rate, Negotiated fare, JFK Airport, ...  \n",
       "5           0       192  [166, 24, 41, 181, 255, 75, 66, 195, 83, 97, 7...  \n",
       "6           0         5  [Manhattan, Brooklyn, Queens, Bronx, Staten Is...  \n",
       "7           0       191  [Morningside Heights, Bloomingdale, Central Ha...  \n",
       "8           0       243  [143, 43, 238, 74, 262, 45, 75, 166, 140, 234,...  \n",
       "9           0         6  [Manhattan, Brooklyn, Queens, Bronx, EWR, Stat...  \n",
       "10          0       242  [Lincoln Square West, Central Park, Upper West...  \n",
       "11          0         4                                [1.0, 2.0, >3, 3.0]  \n",
       "12          0      1704  [2.58, 1.81, 1.3, 1.1, 2.78, 3.8, 1.88, 1.11, ...  \n",
       "13          0         4       [3-6 miles, <2 miles, 7-10 miles, >10 miles]  \n",
       "14          0      2328  [14.9, 10.7, 6.5, 6.0, 17.7, 19.1, 14.2, 7.2, ...  \n",
       "15          0         4                       [<20$, 21-40$, 41-60$, >60$]  \n",
       "16          0      1413  [4.03, 2.64, 1.7, 0.0, 4.85, 1.0, 3.0, 3.33, 4...  \n",
       "17          0         5                    [1-5$, 0$, 11-15$, 6-10$, >15$]  \n",
       "18          0         5   [Credit card, Cash, No charge, Dispute, Unknown]  \n",
       "19          0         2                            [Street-hail, Dispatch]  \n",
       "20          0      3121  [11.02, 6.77, 5.82, 5.97, 17.55, 17.42, 12.95,...  \n",
       "21          0         4  [11-20 minutes, <10 minutes, 21-30 minutes, >3...  \n",
       "22          0      2984  [14.05, 16.04, 13.4, 11.06, 9.5, 13.09, 8.71, ...  \n",
       "23          0         4           [11-20 mph, <10 mph, 21-30 mph, >30 mph]  "
      ]
     },
     "execution_count": 35,
     "metadata": {},
     "output_type": "execute_result"
    }
   ],
   "source": [
    "pd.DataFrame(\n",
    "    {\n",
    "        \"feature\": df.columns.values,\n",
    "        \"data_type\": df.dtypes.values,\n",
    "        \"null_value(%)\": df.isna().mean().values * 100,\n",
    "        \"neg_value(%)\": [\n",
    "            (\n",
    "                len(df[col][df[col] < 0]) / len(df) * 100\n",
    "                if col in df.select_dtypes(include=[np.number]).columns\n",
    "                else 0\n",
    "            )\n",
    "            for col in df.columns\n",
    "        ],\n",
    "        \"0_value(%)\": [\n",
    "            (\n",
    "                len(df[col][df[col] == 0]) / len(df) * 100\n",
    "                if col in df.select_dtypes(include=[np.number]).columns\n",
    "                else 0\n",
    "            )\n",
    "            for col in df.columns\n",
    "        ],\n",
    "        \"duplicate\": df.duplicated().sum(),\n",
    "        \"n_unique\": df.nunique().values,\n",
    "        \"sample_unique\": [df[col].unique() for col in df.columns],\n",
    "    }\n",
    ").round(3)"
   ]
  },
  {
   "cell_type": "markdown",
   "metadata": {},
   "source": [
    "# Exploratory Data Analysis"
   ]
  },
  {
   "cell_type": "markdown",
   "metadata": {},
   "source": [
    "## Categorical"
   ]
  },
  {
   "cell_type": "code",
   "execution_count": 36,
   "metadata": {},
   "outputs": [
    {
     "data": {
      "image/png": "[encoded data removed]",
      "text/plain": [
       "<Figure size 1440x1800 with 15 Axes>"
      ]
     },
     "metadata": {},
     "output_type": "display_data"
    }
   ],
   "source": [
    "cols = [\n",
    "    \"day_category\",\n",
    "    \"pickup_time\",\n",
    "    \"RatecodeID\",\n",
    "    \"PUBorough\",\n",
    "    \"DOBorough\",\n",
    "    \"passenger_count\",\n",
    "    \"distance_bins\",\n",
    "    \"fare_amount_bins\",\n",
    "    \"tip_amount_bins\",\n",
    "    \"payment_type\",\n",
    "    \"trip_type\",\n",
    "    \"duration_bins\",\n",
    "    \"speed_bins\",\n",
    "]\n",
    "\n",
    "fig, axs = plt.subplots(ncols=3, nrows=5, figsize=(20, 25))\n",
    "axs = axs.flatten()\n",
    "\n",
    "for i, col in enumerate(cols):\n",
    "    bars = sns.countplot(data=df, x=col, palette=color, ax=axs[i])\n",
    "    axs[i].set_title(col)\n",
    "    for idx, bar in enumerate(bars.patches):\n",
    "        x_value = bar.get_x() + bar.get_width() / 2\n",
    "        y_value = bar.get_height()\n",
    "        label = \"{:.0f}\".format(bar.get_height())\n",
    "        axs[i].text(x_value, y_value, label, ha=\"center\", va=\"bottom\")\n",
    "\n",
    "plt.tight_layout(w_pad=0.5, h_pad=2)\n",
    "plt.show()"
   ]
  },
  {
   "cell_type": "markdown",
   "metadata": {},
   "source": [
    "## Numerical"
   ]
  },
  {
   "cell_type": "code",
   "execution_count": 37,
   "metadata": {},
   "outputs": [
    {
     "data": {
      "image/png": "[encoded data removed]",
      "text/plain": [
       "<Figure size 1440x720 with 8 Axes>"
      ]
     },
     "metadata": {},
     "output_type": "display_data"
    }
   ],
   "source": [
    "fig, axs = plt.subplots(ncols=4, nrows=2, figsize=(20, 10))\n",
    "index = 0\n",
    "axs = axs.flatten()\n",
    "for k, v in df.select_dtypes(include=[np.number]).items():\n",
    "    axs[index].set_title(k)\n",
    "    sns.distplot(x=df[k], ax=axs[index])\n",
    "    index += 1\n",
    "plt.tight_layout(w_pad=0.5, h_pad=2)\n",
    "plt.show()"
   ]
  },
  {
   "cell_type": "markdown",
   "metadata": {},
   "source": [
    "**Insight**\n",
    "\n",
    "- There is no normally distributed data.  \n",
    "- In general, the data distribution tends to be right-skewed or positively skewed."
   ]
  },
  {
   "cell_type": "markdown",
   "metadata": {},
   "source": [
    "# Data Analysis"
   ]
  },
  {
   "cell_type": "code",
   "execution_count": 38,
   "metadata": {},
   "outputs": [],
   "source": [
    "df['lpep_pickup_datetime'] = pd.to_datetime(df['lpep_pickup_datetime'])\n",
    "df['lpep_dropoff_datetime'] = pd.to_datetime(df['lpep_dropoff_datetime'])"
   ]
  },
  {
   "cell_type": "markdown",
   "metadata": {},
   "source": [
    "## Demand Based on Time"
   ]
  },
  {
   "cell_type": "code",
   "execution_count": 39,
   "metadata": {},
   "outputs": [],
   "source": [
    "trip_monthly = df.groupby(df['lpep_pickup_datetime'].dt.date).agg(trip_bydate=('lpep_pickup_datetime', 'count')).reset_index()\n",
    "trip_monthly['lpep_pickup_datetime'] = pd.to_datetime(trip_monthly['lpep_pickup_datetime'])\n",
    "trip_monthly['day_of_week'] = trip_monthly['lpep_pickup_datetime'].dt.day_name()\n",
    "\n",
    "trip_dayly = trip_monthly.groupby('day_of_week').agg(trip_byday=('trip_bydate', 'sum'), day_count=('day_of_week', 'count'), avg_trip=('trip_bydate', 'mean')).reset_index()\n",
    "trip_dayly['day_cat']= trip_dayly['day_of_week'].apply(lambda x: 'Weekend' if x in ['Saturday', 'Sunday'] else 'Weekdays')\n",
    "\n",
    "trip_dayly_cat = trip_dayly.groupby('day_cat').agg(trip_bycat=('trip_byday', 'sum')).reset_index()\n",
    "\n",
    "trip_merge = pd.merge(trip_monthly, trip_dayly, on='day_of_week', how='left')\n",
    "trip_merge = pd.merge(trip_merge, trip_dayly_cat, on='day_cat', how='left')"
   ]
  },
  {
   "cell_type": "code",
   "execution_count": 40,
   "metadata": {},
   "outputs": [
    {
     "data": {
      "image/png": "[encoded data removed]",
      "text/plain": [
       "<Figure size 1080x360 with 1 Axes>"
      ]
     },
     "metadata": {},
     "output_type": "display_data"
    }
   ],
   "source": [
    "plt.figure(figsize=(15,5))\n",
    "sns.set_style('darkgrid')\n",
    "\n",
    "sns.lineplot(data=trip_merge,\n",
    "             x='lpep_pickup_datetime', \n",
    "             y='trip_bydate', \n",
    "             color=color[1],\n",
    "             label = 'Total Trip')\n",
    "\n",
    "sns.lineplot(data=trip_merge,\n",
    "             x='lpep_pickup_datetime', \n",
    "             y='avg_trip',\n",
    "             color=color[7],\n",
    "             label = 'Average Trip')\n",
    "\n",
    "plt.title('Trip Distribution in January', fontsize=16)\n",
    "plt.xlabel('Date')\n",
    "plt.ylabel('Number of trips')\n",
    "plt.xticks(trip_monthly['lpep_pickup_datetime'], rotation=90)\n",
    "\n",
    "plt.show()"
   ]
  },
  {
   "cell_type": "markdown",
   "metadata": {},
   "source": [
    "**Insights**\n",
    "\n",
    "- The highest number of taxi trips in January occurred on Wednesday, January 25, 2023.  \n",
    "- Meanwhile, the lowest number of taxi trips in January occurred on Sunday, January 1, 2023.  \n",
    "- There is a recurring pattern in the number of trips throughout January."
   ]
  },
  {
   "cell_type": "code",
   "execution_count": 69,
   "metadata": {},
   "outputs": [
    {
     "data": {
      "image/png": "[encoded data removed]",
      "text/plain": [
       "<Figure size 576x576 with 2 Axes>"
      ]
     },
     "metadata": {},
     "output_type": "display_data"
    }
   ],
   "source": [
    "plt.figure(figsize=(8,8))\n",
    "\n",
    "plt.suptitle('Trip Distribution based on Day of Week', fontsize=20)\n",
    "plt.subplot(2,1,1)\n",
    "bars = sns.barplot(x=trip_merge['day_of_week'].unique().tolist(), \n",
    "                   y=trip_merge['avg_trip'].unique().tolist(), \n",
    "                   palette=color)\n",
    "for idx, bar in enumerate(bars.patches):\n",
    "    x_value = bar.get_x() + bar.get_width() / 2\n",
    "    y_value = bar.get_height() + 20\n",
    "    label = \"{:.0f}\".format(trip_merge['avg_trip'].iloc[idx]) \n",
    "    plt.text(x_value, y_value, label, ha='center')\n",
    "\n",
    "plt.title('Average Trips')\n",
    "plt.xlabel('Day of week')\n",
    "plt.ylabel('Avg trips')\n",
    "plt.yticks(np.arange(0, 2501, 500))\n",
    "\n",
    "plt.subplot(2,1,2)\n",
    "plt.pie(x=trip_merge['trip_byday'].unique().tolist(), \n",
    "        labels=trip_merge['day_of_week'].unique().tolist(), \n",
    "        pctdistance=0.8, \n",
    "        autopct='%1.2f%%', \n",
    "        explode=(0,0,0.1,0,0,0,0), \n",
    "        colors=color)\n",
    "fig = plt.gcf()\n",
    "centre_circle = plt.Circle((0, 0), 0.6, fc='white')\n",
    "fig.gca().add_artist(centre_circle)\n",
    "plt.text(0, 0, trip_merge['trip_byday'].unique().sum(), ha='center', va='center', fontsize=16)\n",
    "plt.title('Proportion of Total Trips')\n",
    "\n",
    "plt.tight_layout()\n",
    "plt.show()"
   ]
  },
  {
   "cell_type": "markdown",
   "metadata": {},
   "source": [
    "**Insights**\n",
    "\n",
    "- The highest proportion of total trips in January occurred on Wednesdays, accounting for 16% of the total trips.  \n",
    "- However, based on the average number of trips per day, Thursdays had the highest daily trips, reaching 2,275 trips per day.  \n",
    "- As weekdays approach, the number of trips consistently increases.  \n",
    "- However, when the weekend arrives, the number of daily trips decreases significantly.  "
   ]
  },
  {
   "cell_type": "code",
   "execution_count": 42,
   "metadata": {},
   "outputs": [
    {
     "data": {
      "text/html": [
       "<div>\n",
       "<style scoped>\n",
       "    .dataframe tbody tr th:only-of-type {\n",
       "        vertical-align: middle;\n",
       "    }\n",
       "\n",
       "    .dataframe tbody tr th {\n",
       "        vertical-align: top;\n",
       "    }\n",
       "\n",
       "    .dataframe thead th {\n",
       "        text-align: right;\n",
       "    }\n",
       "</style>\n",
       "<table border=\"1\" class=\"dataframe\">\n",
       "  <thead>\n",
       "    <tr style=\"text-align: right;\">\n",
       "      <th></th>\n",
       "      <th>0</th>\n",
       "      <th>1</th>\n",
       "      <th>2</th>\n",
       "      <th>3</th>\n",
       "      <th>4</th>\n",
       "      <th>5</th>\n",
       "      <th>6</th>\n",
       "      <th>7</th>\n",
       "      <th>8</th>\n",
       "      <th>9</th>\n",
       "      <th>10</th>\n",
       "      <th>11</th>\n",
       "      <th>12</th>\n",
       "      <th>13</th>\n",
       "      <th>14</th>\n",
       "      <th>15</th>\n",
       "      <th>16</th>\n",
       "      <th>17</th>\n",
       "      <th>18</th>\n",
       "      <th>19</th>\n",
       "      <th>20</th>\n",
       "      <th>21</th>\n",
       "      <th>22</th>\n",
       "      <th>23</th>\n",
       "      <th>All</th>\n",
       "    </tr>\n",
       "    <tr>\n",
       "      <th>Day of Week</th>\n",
       "      <th></th>\n",
       "      <th></th>\n",
       "      <th></th>\n",
       "      <th></th>\n",
       "      <th></th>\n",
       "      <th></th>\n",
       "      <th></th>\n",
       "      <th></th>\n",
       "      <th></th>\n",
       "      <th></th>\n",
       "      <th></th>\n",
       "      <th></th>\n",
       "      <th></th>\n",
       "      <th></th>\n",
       "      <th></th>\n",
       "      <th></th>\n",
       "      <th></th>\n",
       "      <th></th>\n",
       "      <th></th>\n",
       "      <th></th>\n",
       "      <th></th>\n",
       "      <th></th>\n",
       "      <th></th>\n",
       "      <th></th>\n",
       "      <th></th>\n",
       "    </tr>\n",
       "  </thead>\n",
       "  <tbody>\n",
       "    <tr>\n",
       "      <th>Sunday</th>\n",
       "      <td>281</td>\n",
       "      <td>264</td>\n",
       "      <td>221</td>\n",
       "      <td>181</td>\n",
       "      <td>137</td>\n",
       "      <td>74</td>\n",
       "      <td>59</td>\n",
       "      <td>96</td>\n",
       "      <td>123</td>\n",
       "      <td>217</td>\n",
       "      <td>324</td>\n",
       "      <td>425</td>\n",
       "      <td>475</td>\n",
       "      <td>490</td>\n",
       "      <td>503</td>\n",
       "      <td>562</td>\n",
       "      <td>539</td>\n",
       "      <td>507</td>\n",
       "      <td>518</td>\n",
       "      <td>442</td>\n",
       "      <td>379</td>\n",
       "      <td>293</td>\n",
       "      <td>193</td>\n",
       "      <td>159</td>\n",
       "      <td>7462</td>\n",
       "    </tr>\n",
       "    <tr>\n",
       "      <th>Monday</th>\n",
       "      <td>110</td>\n",
       "      <td>67</td>\n",
       "      <td>49</td>\n",
       "      <td>62</td>\n",
       "      <td>52</td>\n",
       "      <td>51</td>\n",
       "      <td>134</td>\n",
       "      <td>375</td>\n",
       "      <td>418</td>\n",
       "      <td>482</td>\n",
       "      <td>484</td>\n",
       "      <td>508</td>\n",
       "      <td>525</td>\n",
       "      <td>565</td>\n",
       "      <td>580</td>\n",
       "      <td>695</td>\n",
       "      <td>704</td>\n",
       "      <td>704</td>\n",
       "      <td>724</td>\n",
       "      <td>552</td>\n",
       "      <td>378</td>\n",
       "      <td>305</td>\n",
       "      <td>218</td>\n",
       "      <td>151</td>\n",
       "      <td>8893</td>\n",
       "    </tr>\n",
       "    <tr>\n",
       "      <th>Tuesday</th>\n",
       "      <td>85</td>\n",
       "      <td>50</td>\n",
       "      <td>44</td>\n",
       "      <td>35</td>\n",
       "      <td>21</td>\n",
       "      <td>51</td>\n",
       "      <td>186</td>\n",
       "      <td>531</td>\n",
       "      <td>648</td>\n",
       "      <td>647</td>\n",
       "      <td>572</td>\n",
       "      <td>529</td>\n",
       "      <td>548</td>\n",
       "      <td>536</td>\n",
       "      <td>650</td>\n",
       "      <td>722</td>\n",
       "      <td>784</td>\n",
       "      <td>775</td>\n",
       "      <td>796</td>\n",
       "      <td>629</td>\n",
       "      <td>456</td>\n",
       "      <td>323</td>\n",
       "      <td>242</td>\n",
       "      <td>163</td>\n",
       "      <td>10023</td>\n",
       "    </tr>\n",
       "    <tr>\n",
       "      <th>Wednesday</th>\n",
       "      <td>84</td>\n",
       "      <td>66</td>\n",
       "      <td>27</td>\n",
       "      <td>25</td>\n",
       "      <td>17</td>\n",
       "      <td>43</td>\n",
       "      <td>165</td>\n",
       "      <td>406</td>\n",
       "      <td>510</td>\n",
       "      <td>518</td>\n",
       "      <td>504</td>\n",
       "      <td>452</td>\n",
       "      <td>430</td>\n",
       "      <td>470</td>\n",
       "      <td>535</td>\n",
       "      <td>651</td>\n",
       "      <td>689</td>\n",
       "      <td>747</td>\n",
       "      <td>733</td>\n",
       "      <td>601</td>\n",
       "      <td>408</td>\n",
       "      <td>279</td>\n",
       "      <td>211</td>\n",
       "      <td>152</td>\n",
       "      <td>8723</td>\n",
       "    </tr>\n",
       "    <tr>\n",
       "      <th>Thursday</th>\n",
       "      <td>88</td>\n",
       "      <td>61</td>\n",
       "      <td>41</td>\n",
       "      <td>25</td>\n",
       "      <td>31</td>\n",
       "      <td>51</td>\n",
       "      <td>163</td>\n",
       "      <td>424</td>\n",
       "      <td>505</td>\n",
       "      <td>544</td>\n",
       "      <td>508</td>\n",
       "      <td>496</td>\n",
       "      <td>466</td>\n",
       "      <td>498</td>\n",
       "      <td>589</td>\n",
       "      <td>658</td>\n",
       "      <td>699</td>\n",
       "      <td>760</td>\n",
       "      <td>793</td>\n",
       "      <td>543</td>\n",
       "      <td>444</td>\n",
       "      <td>309</td>\n",
       "      <td>240</td>\n",
       "      <td>165</td>\n",
       "      <td>9101</td>\n",
       "    </tr>\n",
       "    <tr>\n",
       "      <th>Friday</th>\n",
       "      <td>135</td>\n",
       "      <td>81</td>\n",
       "      <td>38</td>\n",
       "      <td>36</td>\n",
       "      <td>28</td>\n",
       "      <td>42</td>\n",
       "      <td>140</td>\n",
       "      <td>429</td>\n",
       "      <td>463</td>\n",
       "      <td>469</td>\n",
       "      <td>475</td>\n",
       "      <td>454</td>\n",
       "      <td>413</td>\n",
       "      <td>446</td>\n",
       "      <td>594</td>\n",
       "      <td>695</td>\n",
       "      <td>688</td>\n",
       "      <td>710</td>\n",
       "      <td>718</td>\n",
       "      <td>568</td>\n",
       "      <td>421</td>\n",
       "      <td>321</td>\n",
       "      <td>290</td>\n",
       "      <td>251</td>\n",
       "      <td>8905</td>\n",
       "    </tr>\n",
       "    <tr>\n",
       "      <th>Saturday</th>\n",
       "      <td>210</td>\n",
       "      <td>176</td>\n",
       "      <td>122</td>\n",
       "      <td>103</td>\n",
       "      <td>84</td>\n",
       "      <td>45</td>\n",
       "      <td>46</td>\n",
       "      <td>108</td>\n",
       "      <td>196</td>\n",
       "      <td>252</td>\n",
       "      <td>354</td>\n",
       "      <td>434</td>\n",
       "      <td>468</td>\n",
       "      <td>514</td>\n",
       "      <td>454</td>\n",
       "      <td>581</td>\n",
       "      <td>567</td>\n",
       "      <td>510</td>\n",
       "      <td>533</td>\n",
       "      <td>475</td>\n",
       "      <td>419</td>\n",
       "      <td>324</td>\n",
       "      <td>315</td>\n",
       "      <td>301</td>\n",
       "      <td>7591</td>\n",
       "    </tr>\n",
       "  </tbody>\n",
       "</table>\n",
       "</div>"
      ],
      "text/plain": [
       "               0    1    2    3    4   5    6    7    8    9   10   11   12  \\\n",
       "Day of Week                                                                   \n",
       "Sunday       281  264  221  181  137  74   59   96  123  217  324  425  475   \n",
       "Monday       110   67   49   62   52  51  134  375  418  482  484  508  525   \n",
       "Tuesday       85   50   44   35   21  51  186  531  648  647  572  529  548   \n",
       "Wednesday     84   66   27   25   17  43  165  406  510  518  504  452  430   \n",
       "Thursday      88   61   41   25   31  51  163  424  505  544  508  496  466   \n",
       "Friday       135   81   38   36   28  42  140  429  463  469  475  454  413   \n",
       "Saturday     210  176  122  103   84  45   46  108  196  252  354  434  468   \n",
       "\n",
       "              13   14   15   16   17   18   19   20   21   22   23    All  \n",
       "Day of Week                                                                \n",
       "Sunday       490  503  562  539  507  518  442  379  293  193  159   7462  \n",
       "Monday       565  580  695  704  704  724  552  378  305  218  151   8893  \n",
       "Tuesday      536  650  722  784  775  796  629  456  323  242  163  10023  \n",
       "Wednesday    470  535  651  689  747  733  601  408  279  211  152   8723  \n",
       "Thursday     498  589  658  699  760  793  543  444  309  240  165   9101  \n",
       "Friday       446  594  695  688  710  718  568  421  321  290  251   8905  \n",
       "Saturday     514  454  581  567  510  533  475  419  324  315  301   7591  "
      ]
     },
     "execution_count": 42,
     "metadata": {},
     "output_type": "execute_result"
    }
   ],
   "source": [
    "day_order = [\n",
    "    \"Sunday\",\n",
    "    \"Monday\",\n",
    "    \"Tuesday\",\n",
    "    \"Wednesday\",\n",
    "    \"Thursday\",\n",
    "    \"Friday\",\n",
    "    \"Saturday\",\n",
    "]\n",
    "cross = pd.crosstab(\n",
    "    index=df[\"lpep_pickup_datetime\"].dt.day_name(),\n",
    "    columns=df[\"lpep_pickup_datetime\"].dt.hour,\n",
    "    margins=True,\n",
    ").reindex(day_order)\n",
    "cross.columns.name = None\n",
    "cross.index.name = \"Day of Week\"\n",
    "\n",
    "melted_cross = (\n",
    "    cross.iloc[:, :-1]\n",
    "    .reset_index()\n",
    "    .melt(id_vars=\"Day of Week\", var_name=\"hour\", value_name=\"trips\")\n",
    ")\n",
    "cross"
   ]
  },
  {
   "cell_type": "code",
   "execution_count": 43,
   "metadata": {},
   "outputs": [
    {
     "name": "stdout",
     "output_type": "stream",
     "text": [
      "Unique days: ['Sunday' 'Monday' 'Tuesday' 'Wednesday' 'Thursday' 'Friday' 'Saturday'] Count: 7\n"
     ]
    },
    {
     "data": {
      "image/png": "[encoded data removed]",
      "text/plain": [
       "<Figure size 1440x720 with 3 Axes>"
      ]
     },
     "metadata": {},
     "output_type": "display_data"
    }
   ],
   "source": [
    "import numpy as np\n",
    "import pandas as pd\n",
    "import seaborn as sns\n",
    "import matplotlib.pyplot as plt\n",
    "\n",
    "# Assuming `melted_cross` and `cross` are already defined\n",
    "# Replace these with your actual data-loading code\n",
    "\n",
    "# Example data for illustration purposes (replace with your actual dataset)\n",
    "# melted_cross = pd.DataFrame({\n",
    "#     'hour': np.tile(np.arange(24), 7),\n",
    "#     'trips': np.random.randint(100, 500, 24 * 7),\n",
    "#     'Day of Week': np.repeat(['Monday', 'Tuesday', 'Wednesday', 'Thursday', 'Friday', 'Saturday', 'Sunday'], 24)\n",
    "# })\n",
    "# cross = pd.DataFrame(np.random.randint(100, 500, (7, 24)),\n",
    "#                      index=['Monday', 'Tuesday', 'Wednesday', 'Thursday', 'Friday', 'Saturday', 'Sunday'],\n",
    "#                      columns=np.arange(24))\n",
    "\n",
    "# Determine unique values in 'Day of Week'\n",
    "unique_days = melted_cross[\"Day of Week\"].unique()\n",
    "print(\"Unique days:\", unique_days, \"Count:\", len(unique_days))\n",
    "\n",
    "# Define color palette with the same number of colors as unique days\n",
    "color = sns.color_palette(\"coolwarm\", len(unique_days))\n",
    "\n",
    "# Create the figure\n",
    "plt.figure(figsize=(20, 10))\n",
    "\n",
    "# Line plot (Total Trips per hour)\n",
    "plt.subplot(2, 1, 1)\n",
    "sns.lineplot(data=melted_cross, x=\"hour\", y=\"trips\", hue=\"Day of Week\", palette=color)\n",
    "plt.title(\"Total Trips per Hour\", fontsize=14)\n",
    "plt.xlabel(\"Time\")\n",
    "plt.xticks(np.arange(0, 24, 1))\n",
    "plt.ylabel(\"Total\")\n",
    "\n",
    "# Heatmap (Total Trips by Day and Hour)\n",
    "plt.subplot(2, 1, 2)\n",
    "sns.heatmap(\n",
    "    cross.iloc[:, :-1],\n",
    "    cmap=\"coolwarm\",\n",
    "    annot=True,\n",
    "    fmt=\"d\",\n",
    "    cbar_kws={\"label\": \"Number of Trips\"},\n",
    ")\n",
    "plt.title(\"Total Trips by Day and Hour\", fontsize=14)\n",
    "plt.xlabel(\"Hour of the Day\")\n",
    "plt.ylabel(\"Day of the Week\")\n",
    "\n",
    "# Adjust layout and display the plots\n",
    "plt.tight_layout()\n",
    "plt.show()"
   ]
  },
  {
   "cell_type": "markdown",
   "metadata": {},
   "source": [
    "**Insights**\n",
    "\n",
    "- There is a consistent increase in the morning, a relatively flat pattern during midday, followed by another increase in the afternoon.  \n",
    "- Peak hours occur from Monday to Friday between 3:00 PM and 6:00 PM, with trips ranging from 650 to 796 throughout January.  \n",
    "- On Tuesdays at 6:00 PM, the highest number of trips in January was recorded based on day and hour.  \n",
    "- Meanwhile, the lowest number of trips occurred on Wednesdays at 4:00 AM, with only 17 trips.  "
   ]
  },
  {
   "cell_type": "code",
   "execution_count": 44,
   "metadata": {},
   "outputs": [
    {
     "data": {
      "image/png": "[encoded data removed]",
      "text/plain": [
       "<Figure size 1080x360 with 2 Axes>"
      ]
     },
     "metadata": {},
     "output_type": "display_data"
    }
   ],
   "source": [
    "agg_borough = (\n",
    "    df.groupby(\"PUBorough\")\n",
    "    .agg(count=(\"PUBorough\", \"count\"))\n",
    "    .sort_values(by=\"count\", ascending=False)\n",
    "    .reset_index()\n",
    ")\n",
    "agg_zone = (\n",
    "    df.groupby(\"PUZone\")\n",
    "    .agg(count=(\"PUZone\", \"count\"))\n",
    "    .sort_values(by=\"count\", ascending=False)\n",
    "    .reset_index()\n",
    ")\n",
    "\n",
    "plt.figure(figsize=(15,5))\n",
    "\n",
    "plt.subplot(1,2,1)\n",
    "bars = sns.barplot(x=agg_borough['PUBorough'], \n",
    "                   y=agg_borough['count'], \n",
    "                   palette=scale)\n",
    "for idx, bar in enumerate(bars.patches):\n",
    "    # Get X and Y placement of label from bar\n",
    "    x_value = bar.get_x() + bar.get_width() / 2\n",
    "    y_value = bar.get_height() + 200\n",
    "    label = \"{:.0f}\".format(agg_borough['count'].iloc[idx]) \n",
    "    plt.text(x_value, y_value, label, ha='center')\n",
    "\n",
    "plt.title('Trip Distribution based on Pick Up Borough')\n",
    "plt.xlabel('Pick Up Borough')\n",
    "plt.ylabel('Total trips')\n",
    "\n",
    "plt.subplot(1,2,2)\n",
    "bars = sns.barplot(data=agg_zone.head(10),\n",
    "                   y='PUZone', \n",
    "                   x='count', \n",
    "                   palette=scale)\n",
    "for idx, bar in enumerate(bars.patches):\n",
    "    y_value = bar.get_y() + bar.get_height() / 2\n",
    "    x_value = bar.get_width() + 400\n",
    "    label = \"{:.0f}\".format(agg_zone['count'].iloc[idx]) \n",
    "    plt.text(x_value, y_value, label, ha='center')\n",
    "\n",
    "plt.title('Trip Distribution based on Pick Up Zone')\n",
    "plt.xlabel('Pick Up Zone')\n",
    "plt.ylabel('Total trips')\n",
    "\n",
    "plt.tight_layout()\n",
    "plt.show()"
   ]
  },
  {
   "cell_type": "markdown",
   "metadata": {},
   "source": [
    "**Insights**\n",
    "\n",
    "- The highest demand for taxi trips occurred in Manhattan, with 36,000 trips, followed by Queens with 15,000, Brooklyn with 8,000, and Staten Island with the lowest demand of only 8 trips.  \n",
    "- Meanwhile, the top 10 zones with the highest demand included East Harlem North with 12,000 trips, East Harlem South with 8,000, and Astoria with 1,622 trips.  "
   ]
  },
  {
   "cell_type": "markdown",
   "metadata": {},
   "source": [
    "## Amount Distribution"
   ]
  },
  {
   "cell_type": "code",
   "execution_count": 45,
   "metadata": {},
   "outputs": [
    {
     "data": {
      "application/vnd.plotly.v1+json": {
       "config": {
        "plotlyServerURL": "https://plot.ly"
       },
       "data": [
        {
         "branchvalues": "total",
         "customdata": [
          [
           11,
           39.400000000000006
          ],
          [
           63,
           26.1
          ],
          [
           946,
           11.4
          ],
          [
           3,
           15.600000000000001
          ],
          [
           25,
           23.3
          ],
          [
           144,
           13.5
          ],
          [
           2,
           46.85
          ],
          [
           2,
           27.5
          ],
          [
           44,
           27.08
          ],
          [
           59,
           31
          ],
          [
           15,
           36.6
          ],
          [
           43,
           35
          ],
          [
           311,
           15.459999999999999
          ],
          [
           44,
           29.27
          ],
          [
           18,
           38.35
          ],
          [
           40,
           21.77
          ],
          [
           23,
           33.48
          ],
          [
           14,
           34.89
          ],
          [
           644,
           12.1
          ],
          [
           189,
           12.1
          ],
          [
           39,
           42.9
          ],
          [
           1,
           72.3
          ],
          [
           382,
           11.4
          ],
          [
           31,
           14.2
          ],
          [
           13,
           31.73
          ],
          [
           12,
           36.25
          ],
          [
           223,
           10.7
          ],
          [
           27,
           12
          ],
          [
           38,
           27.85
          ],
          [
           71,
           23.3
          ],
          [
           153,
           22.6
          ],
          [
           12,
           23.65
          ],
          [
           22,
           39.05
          ],
          [
           158,
           9.3
          ],
          [
           2213,
           8.6
          ],
          [
           2011,
           10
          ],
          [
           1198,
           11.4
          ],
          [
           59,
           33.1
          ],
          [
           2,
           50.25
          ],
          [
           51,
           21.78
          ],
          [
           421,
           25.4
          ],
          [
           558,
           11.4
          ],
          [
           135,
           24
          ],
          [
           13,
           32
          ],
          [
           71,
           9.999999999999998
          ],
          [
           111,
           15.6
          ],
          [
           66,
           10
          ],
          [
           75,
           39.4
          ],
          [
           377,
           13.500000000000002
          ],
          [
           2,
           19.4
          ],
          [
           9,
           30.3
          ],
          [
           28,
           20.2
          ],
          [
           468,
           17.7
          ],
          [
           107,
           19.44
          ],
          [
           32,
           24.7
          ],
          [
           140,
           11.4
          ],
          [
           7,
           38
          ],
          [
           160,
           11.2
          ],
          [
           15,
           29.6
          ],
          [
           235,
           30.61
          ],
          [
           170,
           16.54
          ],
          [
           223,
           16.3
          ],
          [
           50,
           26.8
          ],
          [
           45,
           25.93
          ],
          [
           56,
           12.8
          ],
          [
           2907,
           8.6
          ],
          [
           3011,
           10
          ],
          [
           41,
           30.89
          ],
          [
           13,
           33.9
          ],
          [
           43,
           19.15
          ],
          [
           207,
           27.5
          ],
          [
           133,
           19.1
          ],
          [
           12,
           32.74
          ],
          [
           814,
           12.8
          ],
          [
           316,
           10.7
          ],
          [
           40,
           26.1
          ],
          [
           15,
           42.2
          ],
          [
           75,
           26.13
          ],
          [
           41,
           34.5
          ],
          [
           151,
           24.7
          ],
          [
           106,
           31.700000000000003
          ],
          [
           29,
           29.18
          ],
          [
           195,
           24.7
          ],
          [
           46,
           18.08
          ],
          [
           16,
           24.7
          ],
          [
           1383,
           9.3
          ],
          [
           30,
           14.2
          ],
          [
           455,
           10
          ],
          [
           47,
           22.6
          ],
          [
           122,
           29.62
          ],
          [
           15,
           34.5
          ],
          [
           239,
           14.9
          ],
          [
           97,
           12.800000000000002
          ],
          [
           163,
           27.500000000000004
          ],
          [
           18,
           32.99
          ],
          [
           1,
           16.3
          ],
          [
           166,
           21.2
          ],
          [
           94,
           30.3
          ],
          [
           75,
           29.6
          ],
          [
           1,
           13
          ],
          [
           921,
           12.8
          ],
          [
           7,
           55.49999999999999
          ],
          [
           96,
           16.84
          ],
          [
           27,
           17.7
          ],
          [
           295,
           16
          ],
          [
           33,
           14.9
          ],
          [
           34,
           31.58
          ],
          [
           20,
           26.799999999999997
          ],
          [
           28,
           32.75
          ],
          [
           22,
           19.8
          ],
          [
           169,
           23.3
          ],
          [
           19,
           23
          ],
          [
           506,
           54.9
          ],
          [
           1191,
           12.73
          ],
          [
           266,
           12.8
          ],
          [
           74,
           17.7
          ],
          [
           34,
           25.75
          ],
          [
           435,
           10
          ],
          [
           366,
           12.800000000000002
          ],
          [
           36,
           23.65
          ],
          [
           182,
           26.8
          ],
          [
           1289,
           19.8
          ],
          [
           20,
           27.85
          ],
          [
           747,
           19.1
          ],
          [
           764,
           16.3
          ],
          [
           802,
           17.5
          ],
          [
           438,
           19.1
          ],
          [
           66,
           19.55
          ],
          [
           238,
           18.07
          ],
          [
           154,
           13.849999999999998
          ],
          [
           30,
           20.5
          ],
          [
           96,
           22.25
          ],
          [
           24,
           36.25
          ],
          [
           38,
           8.95
          ],
          [
           1392,
           12.1
          ],
          [
           657,
           10.7
          ],
          [
           11,
           22.6
          ],
          [
           5,
           38
          ],
          [
           19,
           19.5
          ],
          [
           1,
           26.1
          ],
          [
           269,
           12.1
          ],
          [
           50,
           32.05
          ],
          [
           162,
           14.9
          ],
          [
           272,
           14.9
          ],
          [
           426,
           23.02
          ],
          [
           359,
           22.6
          ],
          [
           252,
           21.2
          ],
          [
           160,
           26.8
          ],
          [
           25,
           34.5
          ],
          [
           2019,
           11.399999999999999
          ],
          [
           84,
           18.76
          ],
          [
           329,
           13.5
          ],
          [
           69,
           19.8
          ],
          [
           272,
           26.58
          ],
          [
           72,
           16.65
          ],
          [
           21,
           114
          ],
          [
           283,
           14.2
          ],
          [
           33,
           28.9
          ],
          [
           17,
           29.6
          ],
          [
           52,
           23.999999999999996
          ],
          [
           6,
           19.26
          ],
          [
           403,
           10
          ],
          [
           37,
           28.2
          ],
          [
           548,
           13.52
          ],
          [
           19,
           28.2
          ],
          [
           15,
           32.4
          ],
          [
           1,
           47.8
          ],
          [
           33,
           25.91
          ],
          [
           216,
           29.21
          ],
          [
           1,
           25.4
          ],
          [
           257,
           13.5
          ],
          [
           40,
           18.36
          ],
          [
           191,
           20.5
          ],
          [
           68,
           20.15
          ],
          [
           54,
           17.7
          ],
          [
           240,
           11
          ],
          [
           18,
           15.25
          ],
          [
           96,
           13.5
          ],
          [
           488,
           12.1
          ],
          [
           324,
           12.8
          ],
          [
           110,
           24.000000000000004
          ],
          [
           41,
           25.4
          ],
          [
           6,
           43.55
          ],
          [
           48,
           24.35
          ],
          [
           21,
           29.600000000000005
          ],
          [
           103,
           17.7
          ],
          [
           2,
           8.95
          ],
          [
           6,
           14.9
          ],
          [
           24,
           34.5
          ],
          [
           40,
           26.8
          ],
          [
           242,
           10
          ],
          [
           51,
           27.5
          ],
          [
           23,
           21.9
          ],
          [
           65,
           25.53
          ],
          [
           116,
           10.7
          ],
          [
           333,
           18.4
          ],
          [
           51,
           27.5
          ],
          [
           69,
           17
          ],
          [
           20,
           23.3
          ],
          [
           64,
           26.8
          ],
          [
           2,
           24.85
          ],
          [
           5,
           21.5
          ],
          [
           640,
           12.8
          ],
          [
           44,
           28.199999999999996
          ],
          [
           235,
           17.7
          ],
          [
           478,
           13.5
          ],
          [
           58,
           28.2
          ],
          [
           95,
           19.1
          ],
          [
           272,
           21.2
          ],
          [
           247,
           27.5
          ],
          [
           156,
           36.6
          ],
          [
           87,
           30.300000000000004
          ],
          [
           172,
           24
          ],
          [
           162,
           28.899999999999995
          ],
          [
           86,
           21.06
          ],
          [
           2590,
           11.4
          ],
          [
           1022,
           15.6
          ],
          [
           2306,
           12.1
          ],
          [
           1474,
           14.9
          ],
          [
           6,
           25.05
          ],
          [
           41,
           24.7
          ],
          [
           19,
           30.3
          ],
          [
           435,
           21.2
          ],
          [
           814,
           17
          ],
          [
           150,
           28.54
          ],
          [
           150,
           14.9
          ],
          [
           25,
           22.6
          ],
          [
           86,
           31.5
          ],
          [
           23,
           28.2
          ],
          [
           1,
           6.5
          ],
          [
           49,
           17.7
          ],
          [
           3,
           19.1
          ],
          [
           26,
           27.77
          ],
          [
           185,
           21.2
          ],
          [
           147,
           19.8
          ],
          [
           48,
           19.8
          ],
          [
           137,
           19.1
          ],
          [
           11,
           24.2
          ],
          [
           466,
           12.1
          ],
          [
           38,
           17
          ],
          [
           881,
           14.2
          ],
          [
           1511,
           12.1
          ],
          [
           "(?)",
           21.754844093686522
          ],
          [
           "(?)",
           19.14231734527494
          ],
          [
           21,
           114
          ],
          [
           "(?)",
           16.677352616156885
          ],
          [
           "(?)",
           18.96490288844648
          ],
          [
           "(?)",
           21.160678210678206
          ],
          [
           "(?)",
           18.019287135292977
          ]
         ],
         "domain": {
          "x": [
           0,
           1
          ],
          "y": [
           0,
           1
          ]
         },
         "hovertemplate": "<b>%{label}</b><br>Total Fare: %{value}<br>Trip Count: %{customdata[0]}<br>Median Fare: %{customdata[1]:.2f}",
         "ids": [
          "All/Bronx/Allerton/Pelham Gardens",
          "All/Manhattan/Alphabet City",
          "All/Queens/Astoria",
          "All/Queens/Astoria Park",
          "All/Queens/Auburndale",
          "All/Queens/Baisley Park",
          "All/Brooklyn/Bath Beach",
          "All/Manhattan/Battery Park",
          "All/Manhattan/Battery Park City",
          "All/Brooklyn/Bay Ridge",
          "All/Queens/Bay Terrace/Fort Totten",
          "All/Queens/Bayside",
          "All/Brooklyn/Bedford",
          "All/Bronx/Bedford Park",
          "All/Queens/Bellerose",
          "All/Bronx/Belmont",
          "All/Brooklyn/Bensonhurst East",
          "All/Brooklyn/Bensonhurst West",
          "All/Manhattan/Bloomingdale",
          "All/Brooklyn/Boerum Hill",
          "All/Brooklyn/Borough Park",
          "All/Queens/Breezy Point/Fort Tilden/Riis Beach",
          "All/Queens/Briarwood/Jamaica Hills",
          "All/Brooklyn/Brighton Beach",
          "All/Bronx/Bronx Park",
          "All/Bronx/Bronxdale",
          "All/Brooklyn/Brooklyn Heights",
          "All/Brooklyn/Brooklyn Navy Yard",
          "All/Brooklyn/Brownsville",
          "All/Brooklyn/Bushwick North",
          "All/Brooklyn/Bushwick South",
          "All/Queens/Cambria Heights",
          "All/Brooklyn/Canarsie",
          "All/Brooklyn/Carroll Gardens",
          "All/Manhattan/Central Harlem",
          "All/Manhattan/Central Harlem North",
          "All/Manhattan/Central Park",
          "All/Manhattan/Chinatown",
          "All/Bronx/City Island",
          "All/Bronx/Claremont/Bathgate",
          "All/Manhattan/Clinton East",
          "All/Brooklyn/Clinton Hill",
          "All/Manhattan/Clinton West",
          "All/Bronx/Co-Op City",
          "All/Brooklyn/Cobble Hill",
          "All/Queens/College Point",
          "All/Brooklyn/Columbia Street",
          "All/Brooklyn/Coney Island",
          "All/Queens/Corona",
          "All/Bronx/Country Club",
          "All/Bronx/Crotona Park",
          "All/Bronx/Crotona Park East",
          "All/Brooklyn/Crown Heights North",
          "All/Brooklyn/Crown Heights South",
          "All/Brooklyn/Cypress Hills",
          "All/Brooklyn/DUMBO/Vinegar Hill",
          "All/Queens/Douglaston",
          "All/Brooklyn/Downtown Brooklyn/MetroTech",
          "All/Brooklyn/Dyker Heights",
          "All/Manhattan/East Chelsea",
          "All/Bronx/East Concourse/Concourse Village",
          "All/Queens/East Elmhurst",
          "All/Brooklyn/East Flatbush/Farragut",
          "All/Brooklyn/East Flatbush/Remsen Village",
          "All/Queens/East Flushing",
          "All/Manhattan/East Harlem North",
          "All/Manhattan/East Harlem South",
          "All/Brooklyn/East New York",
          "All/Brooklyn/East New York/Pennsylvania Avenue",
          "All/Bronx/East Tremont",
          "All/Manhattan/East Village",
          "All/Brooklyn/East Williamsburg",
          "All/Bronx/Eastchester",
          "All/Queens/Elmhurst",
          "All/Queens/Elmhurst/Maspeth",
          "All/Brooklyn/Erasmus",
          "All/Queens/Far Rockaway",
          "All/Manhattan/Financial District North",
          "All/Manhattan/Financial District South",
          "All/Brooklyn/Flatbush/Ditmas Park",
          "All/Manhattan/Flatiron",
          "All/Brooklyn/Flatlands",
          "All/Queens/Flushing",
          "All/Queens/Flushing Meadows-Corona Park",
          "All/Bronx/Fordham South",
          "All/Queens/Forest Hills",
          "All/Queens/Forest Park/Highland Park",
          "All/Brooklyn/Fort Greene",
          "All/Queens/Fresh Meadows",
          "All/Manhattan/Garment District",
          "All/Queens/Glen Oaks",
          "All/Queens/Glendale",
          "All/Brooklyn/Gowanus",
          "All/Manhattan/Gramercy",
          "All/Brooklyn/Gravesend",
          "All/Brooklyn/Green-Wood Cemetery",
          "All/Brooklyn/Greenpoint",
          "All/Manhattan/Greenwich Village North",
          "All/Manhattan/Greenwich Village South",
          "All/Staten Island/Grymes Hill/Clifton",
          "All/Manhattan/Hamilton Heights",
          "All/Queens/Hammels/Arverne",
          "All/Bronx/Highbridge",
          "All/Manhattan/Highbridge Park",
          "All/Queens/Hillcrest/Pomonok",
          "All/Queens/Hollis",
          "All/Brooklyn/Homecrest",
          "All/Queens/Howard Beach",
          "All/Manhattan/Hudson Sq",
          "All/Bronx/Hunts Point",
          "All/Manhattan/Inwood",
          "All/Manhattan/Inwood Hill Park",
          "All/Queens/JFK Airport",
          "All/Queens/Jackson Heights",
          "All/Queens/Jamaica",
          "All/Queens/Jamaica Estates",
          "All/Brooklyn/Kensington",
          "All/Queens/Kew Gardens",
          "All/Queens/Kew Gardens Hills",
          "All/Bronx/Kingsbridge Heights",
          "All/Manhattan/Kips Bay",
          "All/Queens/LaGuardia Airport",
          "All/Queens/Laurelton",
          "All/Manhattan/Lenox Hill East",
          "All/Manhattan/Lenox Hill West",
          "All/Manhattan/Lincoln Square East",
          "All/Manhattan/Lincoln Square West",
          "All/Manhattan/Little Italy/NoLiTa",
          "All/Queens/Long Island City/Hunters Point",
          "All/Queens/Long Island City/Queens Plaza",
          "All/Bronx/Longwood",
          "All/Manhattan/Lower East Side",
          "All/Brooklyn/Madison",
          "All/Brooklyn/Manhattan Beach",
          "All/Manhattan/Manhattan Valley",
          "All/Manhattan/Manhattanville",
          "All/Manhattan/Marble Hill",
          "All/Brooklyn/Marine Park/Floyd Bennett Field",
          "All/Brooklyn/Marine Park/Mill Basin",
          "All/Staten Island/Mariners Harbor",
          "All/Queens/Maspeth",
          "All/Manhattan/Meatpacking/West Village West",
          "All/Bronx/Melrose South",
          "All/Queens/Middle Village",
          "All/Manhattan/Midtown Center",
          "All/Manhattan/Midtown East",
          "All/Manhattan/Midtown North",
          "All/Manhattan/Midtown South",
          "All/Brooklyn/Midwood",
          "All/Manhattan/Morningside Heights",
          "All/Bronx/Morrisania/Melrose",
          "All/Bronx/Mott Haven/Port Morris",
          "All/Bronx/Mount Hope",
          "All/Manhattan/Murray Hill",
          "All/Queens/Murray Hill-Queens",
          "All/EWR/Newark Airport",
          "All/Queens/North Corona",
          "All/Bronx/Norwood",
          "All/Queens/Oakland Gardens",
          "All/Brooklyn/Ocean Hill",
          "All/Brooklyn/Ocean Parkway South",
          "All/Queens/Old Astoria",
          "All/Queens/Ozone Park",
          "All/Brooklyn/Park Slope",
          "All/Bronx/Parkchester",
          "All/Bronx/Pelham Bay",
          "All/Bronx/Pelham Bay Park",
          "All/Bronx/Pelham Parkway",
          "All/Manhattan/Penn Station/Madison Sq West",
          "All/Staten Island/Port Richmond",
          "All/Brooklyn/Prospect Heights",
          "All/Brooklyn/Prospect Park",
          "All/Brooklyn/Prospect-Lefferts Gardens",
          "All/Queens/Queens Village",
          "All/Queens/Queensboro Hill",
          "All/Queens/Queensbridge/Ravenswood",
          "All/Manhattan/Randalls Island",
          "All/Brooklyn/Red Hook",
          "All/Queens/Rego Park",
          "All/Queens/Richmond Hill",
          "All/Queens/Ridgewood",
          "All/Bronx/Riverdale/North Riverdale/Fieldston",
          "All/Queens/Rockaway Park",
          "All/Manhattan/Roosevelt Island",
          "All/Queens/Rosedale",
          "All/Queens/Saint Albans",
          "All/Staten Island/Saint George/New Brighton",
          "All/Queens/Saint Michaels Cemetery/Woodside",
          "All/Bronx/Schuylerville/Edgewater Park",
          "All/Manhattan/Seaport",
          "All/Brooklyn/Sheepshead Bay",
          "All/Manhattan/SoHo",
          "All/Bronx/Soundview/Bruckner",
          "All/Bronx/Soundview/Castle Hill",
          "All/Queens/South Jamaica",
          "All/Queens/South Ozone Park",
          "All/Brooklyn/South Williamsburg",
          "All/Queens/Springfield Gardens North",
          "All/Queens/Springfield Gardens South",
          "All/Bronx/Spuyten Duyvil/Kingsbridge",
          "All/Staten Island/Stapleton",
          "All/Brooklyn/Starrett City",
          "All/Queens/Steinway",
          "All/Manhattan/Stuy Town/Peter Cooper Village",
          "All/Brooklyn/Stuyvesant Heights",
          "All/Queens/Sunnyside",
          "All/Brooklyn/Sunset Park East",
          "All/Brooklyn/Sunset Park West",
          "All/Manhattan/Sutton Place/Turtle Bay North",
          "All/Manhattan/Times Sq/Theatre District",
          "All/Manhattan/TriBeCa/Civic Center",
          "All/Manhattan/Two Bridges/Seward Park",
          "All/Manhattan/UN/Turtle Bay South",
          "All/Manhattan/Union Sq",
          "All/Bronx/University Heights/Morris Heights",
          "All/Manhattan/Upper East Side North",
          "All/Manhattan/Upper East Side South",
          "All/Manhattan/Upper West Side North",
          "All/Manhattan/Upper West Side South",
          "All/Bronx/Van Cortlandt Park",
          "All/Bronx/Van Cortlandt Village",
          "All/Bronx/Van Nest/Morris Park",
          "All/Manhattan/Washington Heights North",
          "All/Manhattan/Washington Heights South",
          "All/Manhattan/West Chelsea/Hudson Yards",
          "All/Bronx/West Concourse",
          "All/Bronx/West Farms/Bronx River",
          "All/Manhattan/West Village",
          "All/Bronx/Westchester Village/Unionport",
          "All/Staten Island/Westerleigh",
          "All/Queens/Whitestone",
          "All/Queens/Willets Point",
          "All/Bronx/Williamsbridge/Olinville",
          "All/Brooklyn/Williamsburg (North Side)",
          "All/Brooklyn/Williamsburg (South Side)",
          "All/Brooklyn/Windsor Terrace",
          "All/Queens/Woodhaven",
          "All/Bronx/Woodlawn/Wakefield",
          "All/Queens/Woodside",
          "All/Manhattan/World Trade Center",
          "All/Manhattan/Yorkville East",
          "All/Manhattan/Yorkville West",
          "All/Bronx",
          "All/Brooklyn",
          "All/EWR",
          "All/Manhattan",
          "All/Queens",
          "All/Staten Island",
          "All"
         ],
         "labels": [
          "Allerton/Pelham Gardens",
          "Alphabet City",
          "Astoria",
          "Astoria Park",
          "Auburndale",
          "Baisley Park",
          "Bath Beach",
          "Battery Park",
          "Battery Park City",
          "Bay Ridge",
          "Bay Terrace/Fort Totten",
          "Bayside",
          "Bedford",
          "Bedford Park",
          "Bellerose",
          "Belmont",
          "Bensonhurst East",
          "Bensonhurst West",
          "Bloomingdale",
          "Boerum Hill",
          "Borough Park",
          "Breezy Point/Fort Tilden/Riis Beach",
          "Briarwood/Jamaica Hills",
          "Brighton Beach",
          "Bronx Park",
          "Bronxdale",
          "Brooklyn Heights",
          "Brooklyn Navy Yard",
          "Brownsville",
          "Bushwick North",
          "Bushwick South",
          "Cambria Heights",
          "Canarsie",
          "Carroll Gardens",
          "Central Harlem",
          "Central Harlem North",
          "Central Park",
          "Chinatown",
          "City Island",
          "Claremont/Bathgate",
          "Clinton East",
          "Clinton Hill",
          "Clinton West",
          "Co-Op City",
          "Cobble Hill",
          "College Point",
          "Columbia Street",
          "Coney Island",
          "Corona",
          "Country Club",
          "Crotona Park",
          "Crotona Park East",
          "Crown Heights North",
          "Crown Heights South",
          "Cypress Hills",
          "DUMBO/Vinegar Hill",
          "Douglaston",
          "Downtown Brooklyn/MetroTech",
          "Dyker Heights",
          "East Chelsea",
          "East Concourse/Concourse Village",
          "East Elmhurst",
          "East Flatbush/Farragut",
          "East Flatbush/Remsen Village",
          "East Flushing",
          "East Harlem North",
          "East Harlem South",
          "East New York",
          "East New York/Pennsylvania Avenue",
          "East Tremont",
          "East Village",
          "East Williamsburg",
          "Eastchester",
          "Elmhurst",
          "Elmhurst/Maspeth",
          "Erasmus",
          "Far Rockaway",
          "Financial District North",
          "Financial District South",
          "Flatbush/Ditmas Park",
          "Flatiron",
          "Flatlands",
          "Flushing",
          "Flushing Meadows-Corona Park",
          "Fordham South",
          "Forest Hills",
          "Forest Park/Highland Park",
          "Fort Greene",
          "Fresh Meadows",
          "Garment District",
          "Glen Oaks",
          "Glendale",
          "Gowanus",
          "Gramercy",
          "Gravesend",
          "Green-Wood Cemetery",
          "Greenpoint",
          "Greenwich Village North",
          "Greenwich Village South",
          "Grymes Hill/Clifton",
          "Hamilton Heights",
          "Hammels/Arverne",
          "Highbridge",
          "Highbridge Park",
          "Hillcrest/Pomonok",
          "Hollis",
          "Homecrest",
          "Howard Beach",
          "Hudson Sq",
          "Hunts Point",
          "Inwood",
          "Inwood Hill Park",
          "JFK Airport",
          "Jackson Heights",
          "Jamaica",
          "Jamaica Estates",
          "Kensington",
          "Kew Gardens",
          "Kew Gardens Hills",
          "Kingsbridge Heights",
          "Kips Bay",
          "LaGuardia Airport",
          "Laurelton",
          "Lenox Hill East",
          "Lenox Hill West",
          "Lincoln Square East",
          "Lincoln Square West",
          "Little Italy/NoLiTa",
          "Long Island City/Hunters Point",
          "Long Island City/Queens Plaza",
          "Longwood",
          "Lower East Side",
          "Madison",
          "Manhattan Beach",
          "Manhattan Valley",
          "Manhattanville",
          "Marble Hill",
          "Marine Park/Floyd Bennett Field",
          "Marine Park/Mill Basin",
          "Mariners Harbor",
          "Maspeth",
          "Meatpacking/West Village West",
          "Melrose South",
          "Middle Village",
          "Midtown Center",
          "Midtown East",
          "Midtown North",
          "Midtown South",
          "Midwood",
          "Morningside Heights",
          "Morrisania/Melrose",
          "Mott Haven/Port Morris",
          "Mount Hope",
          "Murray Hill",
          "Murray Hill-Queens",
          "Newark Airport",
          "North Corona",
          "Norwood",
          "Oakland Gardens",
          "Ocean Hill",
          "Ocean Parkway South",
          "Old Astoria",
          "Ozone Park",
          "Park Slope",
          "Parkchester",
          "Pelham Bay",
          "Pelham Bay Park",
          "Pelham Parkway",
          "Penn Station/Madison Sq West",
          "Port Richmond",
          "Prospect Heights",
          "Prospect Park",
          "Prospect-Lefferts Gardens",
          "Queens Village",
          "Queensboro Hill",
          "Queensbridge/Ravenswood",
          "Randalls Island",
          "Red Hook",
          "Rego Park",
          "Richmond Hill",
          "Ridgewood",
          "Riverdale/North Riverdale/Fieldston",
          "Rockaway Park",
          "Roosevelt Island",
          "Rosedale",
          "Saint Albans",
          "Saint George/New Brighton",
          "Saint Michaels Cemetery/Woodside",
          "Schuylerville/Edgewater Park",
          "Seaport",
          "Sheepshead Bay",
          "SoHo",
          "Soundview/Bruckner",
          "Soundview/Castle Hill",
          "South Jamaica",
          "South Ozone Park",
          "South Williamsburg",
          "Springfield Gardens North",
          "Springfield Gardens South",
          "Spuyten Duyvil/Kingsbridge",
          "Stapleton",
          "Starrett City",
          "Steinway",
          "Stuy Town/Peter Cooper Village",
          "Stuyvesant Heights",
          "Sunnyside",
          "Sunset Park East",
          "Sunset Park West",
          "Sutton Place/Turtle Bay North",
          "Times Sq/Theatre District",
          "TriBeCa/Civic Center",
          "Two Bridges/Seward Park",
          "UN/Turtle Bay South",
          "Union Sq",
          "University Heights/Morris Heights",
          "Upper East Side North",
          "Upper East Side South",
          "Upper West Side North",
          "Upper West Side South",
          "Van Cortlandt Park",
          "Van Cortlandt Village",
          "Van Nest/Morris Park",
          "Washington Heights North",
          "Washington Heights South",
          "West Chelsea/Hudson Yards",
          "West Concourse",
          "West Farms/Bronx River",
          "West Village",
          "Westchester Village/Unionport",
          "Westerleigh",
          "Whitestone",
          "Willets Point",
          "Williamsbridge/Olinville",
          "Williamsburg (North Side)",
          "Williamsburg (South Side)",
          "Windsor Terrace",
          "Woodhaven",
          "Woodlawn/Wakefield",
          "Woodside",
          "World Trade Center",
          "Yorkville East",
          "Yorkville West",
          "Bronx",
          "Brooklyn",
          "EWR",
          "Manhattan",
          "Queens",
          "Staten Island",
          "All"
         ],
         "marker": {
          "coloraxis": "coloraxis",
          "colors": [
           39.400000000000006,
           26.1,
           11.4,
           15.600000000000001,
           23.3,
           13.5,
           46.85,
           27.5,
           27.08,
           31,
           36.6,
           35,
           15.459999999999999,
           29.27,
           38.35,
           21.77,
           33.48,
           34.89,
           12.1,
           12.1,
           42.9,
           72.3,
           11.4,
           14.2,
           31.73,
           36.25,
           10.7,
           12,
           27.85,
           23.3,
           22.6,
           23.65,
           39.05,
           9.3,
           8.6,
           10,
           11.4,
           33.1,
           50.25,
           21.78,
           25.4,
           11.4,
           24,
           32,
           9.999999999999998,
           15.6,
           10,
           39.4,
           13.500000000000002,
           19.4,
           30.3,
           20.2,
           17.7,
           19.44,
           24.7,
           11.4,
           38,
           11.2,
           29.6,
           30.61,
           16.54,
           16.3,
           26.8,
           25.93,
           12.8,
           8.6,
           10,
           30.89,
           33.9,
           19.15,
           27.5,
           19.1,
           32.74,
           12.8,
           10.7,
           26.1,
           42.2,
           26.13,
           34.5,
           24.7,
           31.700000000000003,
           29.18,
           24.7,
           18.08,
           24.7,
           9.3,
           14.2,
           10,
           22.6,
           29.62,
           34.5,
           14.9,
           12.800000000000002,
           27.500000000000004,
           32.99,
           16.3,
           21.2,
           30.3,
           29.6,
           13,
           12.8,
           55.49999999999999,
           16.84,
           17.7,
           16,
           14.9,
           31.58,
           26.799999999999997,
           32.75,
           19.8,
           23.3,
           23,
           54.9,
           12.73,
           12.8,
           17.7,
           25.75,
           10,
           12.800000000000002,
           23.65,
           26.8,
           19.8,
           27.85,
           19.1,
           16.3,
           17.5,
           19.1,
           19.55,
           18.07,
           13.849999999999998,
           20.5,
           22.25,
           36.25,
           8.95,
           12.1,
           10.7,
           22.6,
           38,
           19.5,
           26.1,
           12.1,
           32.05,
           14.9,
           14.9,
           23.02,
           22.6,
           21.2,
           26.8,
           34.5,
           11.399999999999999,
           18.76,
           13.5,
           19.8,
           26.58,
           16.65,
           114,
           14.2,
           28.9,
           29.6,
           23.999999999999996,
           19.26,
           10,
           28.2,
           13.52,
           28.2,
           32.4,
           47.8,
           25.91,
           29.21,
           25.4,
           13.5,
           18.36,
           20.5,
           20.15,
           17.7,
           11,
           15.25,
           13.5,
           12.1,
           12.8,
           24.000000000000004,
           25.4,
           43.55,
           24.35,
           29.600000000000005,
           17.7,
           8.95,
           14.9,
           34.5,
           26.8,
           10,
           27.5,
           21.9,
           25.53,
           10.7,
           18.4,
           27.5,
           17,
           23.3,
           26.8,
           24.85,
           21.5,
           12.8,
           28.199999999999996,
           17.7,
           13.5,
           28.2,
           19.1,
           21.2,
           27.5,
           36.6,
           30.300000000000004,
           24,
           28.899999999999995,
           21.06,
           11.4,
           15.6,
           12.1,
           14.9,
           25.05,
           24.7,
           30.3,
           21.2,
           17,
           28.54,
           14.9,
           22.6,
           31.5,
           28.2,
           6.5,
           17.7,
           19.1,
           27.77,
           21.2,
           19.8,
           19.8,
           19.1,
           24.2,
           12.1,
           17,
           14.2,
           12.1,
           21.754844093686522,
           19.14231734527494,
           114,
           16.677352616156885,
           18.96490288844648,
           21.160678210678206,
           18.019287135292977
          ],
          "cornerradius": 2
         },
         "name": "",
         "parents": [
          "All/Bronx",
          "All/Manhattan",
          "All/Queens",
          "All/Queens",
          "All/Queens",
          "All/Queens",
          "All/Brooklyn",
          "All/Manhattan",
          "All/Manhattan",
          "All/Brooklyn",
          "All/Queens",
          "All/Queens",
          "All/Brooklyn",
          "All/Bronx",
          "All/Queens",
          "All/Bronx",
          "All/Brooklyn",
          "All/Brooklyn",
          "All/Manhattan",
          "All/Brooklyn",
          "All/Brooklyn",
          "All/Queens",
          "All/Queens",
          "All/Brooklyn",
          "All/Bronx",
          "All/Bronx",
          "All/Brooklyn",
          "All/Brooklyn",
          "All/Brooklyn",
          "All/Brooklyn",
          "All/Brooklyn",
          "All/Queens",
          "All/Brooklyn",
          "All/Brooklyn",
          "All/Manhattan",
          "All/Manhattan",
          "All/Manhattan",
          "All/Manhattan",
          "All/Bronx",
          "All/Bronx",
          "All/Manhattan",
          "All/Brooklyn",
          "All/Manhattan",
          "All/Bronx",
          "All/Brooklyn",
          "All/Queens",
          "All/Brooklyn",
          "All/Brooklyn",
          "All/Queens",
          "All/Bronx",
          "All/Bronx",
          "All/Bronx",
          "All/Brooklyn",
          "All/Brooklyn",
          "All/Brooklyn",
          "All/Brooklyn",
          "All/Queens",
          "All/Brooklyn",
          "All/Brooklyn",
          "All/Manhattan",
          "All/Bronx",
          "All/Queens",
          "All/Brooklyn",
          "All/Brooklyn",
          "All/Queens",
          "All/Manhattan",
          "All/Manhattan",
          "All/Brooklyn",
          "All/Brooklyn",
          "All/Bronx",
          "All/Manhattan",
          "All/Brooklyn",
          "All/Bronx",
          "All/Queens",
          "All/Queens",
          "All/Brooklyn",
          "All/Queens",
          "All/Manhattan",
          "All/Manhattan",
          "All/Brooklyn",
          "All/Manhattan",
          "All/Brooklyn",
          "All/Queens",
          "All/Queens",
          "All/Bronx",
          "All/Queens",
          "All/Queens",
          "All/Brooklyn",
          "All/Queens",
          "All/Manhattan",
          "All/Queens",
          "All/Queens",
          "All/Brooklyn",
          "All/Manhattan",
          "All/Brooklyn",
          "All/Brooklyn",
          "All/Brooklyn",
          "All/Manhattan",
          "All/Manhattan",
          "All/Staten Island",
          "All/Manhattan",
          "All/Queens",
          "All/Bronx",
          "All/Manhattan",
          "All/Queens",
          "All/Queens",
          "All/Brooklyn",
          "All/Queens",
          "All/Manhattan",
          "All/Bronx",
          "All/Manhattan",
          "All/Manhattan",
          "All/Queens",
          "All/Queens",
          "All/Queens",
          "All/Queens",
          "All/Brooklyn",
          "All/Queens",
          "All/Queens",
          "All/Bronx",
          "All/Manhattan",
          "All/Queens",
          "All/Queens",
          "All/Manhattan",
          "All/Manhattan",
          "All/Manhattan",
          "All/Manhattan",
          "All/Manhattan",
          "All/Queens",
          "All/Queens",
          "All/Bronx",
          "All/Manhattan",
          "All/Brooklyn",
          "All/Brooklyn",
          "All/Manhattan",
          "All/Manhattan",
          "All/Manhattan",
          "All/Brooklyn",
          "All/Brooklyn",
          "All/Staten Island",
          "All/Queens",
          "All/Manhattan",
          "All/Bronx",
          "All/Queens",
          "All/Manhattan",
          "All/Manhattan",
          "All/Manhattan",
          "All/Manhattan",
          "All/Brooklyn",
          "All/Manhattan",
          "All/Bronx",
          "All/Bronx",
          "All/Bronx",
          "All/Manhattan",
          "All/Queens",
          "All/EWR",
          "All/Queens",
          "All/Bronx",
          "All/Queens",
          "All/Brooklyn",
          "All/Brooklyn",
          "All/Queens",
          "All/Queens",
          "All/Brooklyn",
          "All/Bronx",
          "All/Bronx",
          "All/Bronx",
          "All/Bronx",
          "All/Manhattan",
          "All/Staten Island",
          "All/Brooklyn",
          "All/Brooklyn",
          "All/Brooklyn",
          "All/Queens",
          "All/Queens",
          "All/Queens",
          "All/Manhattan",
          "All/Brooklyn",
          "All/Queens",
          "All/Queens",
          "All/Queens",
          "All/Bronx",
          "All/Queens",
          "All/Manhattan",
          "All/Queens",
          "All/Queens",
          "All/Staten Island",
          "All/Queens",
          "All/Bronx",
          "All/Manhattan",
          "All/Brooklyn",
          "All/Manhattan",
          "All/Bronx",
          "All/Bronx",
          "All/Queens",
          "All/Queens",
          "All/Brooklyn",
          "All/Queens",
          "All/Queens",
          "All/Bronx",
          "All/Staten Island",
          "All/Brooklyn",
          "All/Queens",
          "All/Manhattan",
          "All/Brooklyn",
          "All/Queens",
          "All/Brooklyn",
          "All/Brooklyn",
          "All/Manhattan",
          "All/Manhattan",
          "All/Manhattan",
          "All/Manhattan",
          "All/Manhattan",
          "All/Manhattan",
          "All/Bronx",
          "All/Manhattan",
          "All/Manhattan",
          "All/Manhattan",
          "All/Manhattan",
          "All/Bronx",
          "All/Bronx",
          "All/Bronx",
          "All/Manhattan",
          "All/Manhattan",
          "All/Manhattan",
          "All/Bronx",
          "All/Bronx",
          "All/Manhattan",
          "All/Bronx",
          "All/Staten Island",
          "All/Queens",
          "All/Queens",
          "All/Bronx",
          "All/Brooklyn",
          "All/Brooklyn",
          "All/Brooklyn",
          "All/Queens",
          "All/Bronx",
          "All/Queens",
          "All/Manhattan",
          "All/Manhattan",
          "All/Manhattan",
          "All",
          "All",
          "All",
          "All",
          "All",
          "All",
          ""
         ],
         "type": "treemap",
         "values": [
          422.38,
          1740.24,
          13607.25,
          78.47,
          599.72,
          2301.22,
          93.7,
          55,
          1353.57,
          2220.2,
          511.4,
          1436.7,
          5729.86,
          1287.68,
          846.4,
          946.98,
          843.04,
          550.75,
          7901.77,
          3386.4,
          1716.8,
          72.3,
          5071.81,
          798.25,
          427.88,
          364.36,
          3241.71,
          399,
          1179.37,
          1656.21,
          3624.97,
          362.2,
          845.73,
          1731.69,
          21564.25,
          22600.06,
          15559.99,
          1716.68,
          100.5,
          1121.62,
          11080.81,
          7015.63,
          3562.69,
          435.79,
          954.23,
          2138.47,
          782.95,
          3064.54,
          5613.76,
          38.81,
          266,
          607.46,
          9227.22,
          2156.65,
          848.46,
          2088.76,
          265.3,
          2796.05,
          488.23,
          7311.57,
          2861.38,
          3889.78,
          1472.83,
          1181.38,
          1003.2,
          29054.87,
          32814.87,
          1281.77,
          485.85,
          952.86,
          5873.88,
          2751.26,
          384.92,
          12644.89,
          4862.61,
          1211.96,
          631.3,
          2170.66,
          1340.34,
          4493.94,
          3468.62,
          798.57,
          5144.94,
          1143.53,
          393.04,
          15931.61,
          488.3,
          5563.72,
          1159.1,
          3695.59,
          566.21,
          4487.5,
          1604.85,
          4808.74,
          629.14,
          16.3,
          3810.3,
          2934.26,
          2284.61,
          13,
          12510.94,
          357.73,
          1607.65,
          509.37,
          5149.22,
          541.4,
          1309.73,
          631.09,
          887.32,
          494.45,
          3890.18,
          430.6,
          26257.85,
          17592.36,
          4496.07,
          1555.53,
          1080.98,
          5304.57,
          5239.72,
          830.54,
          5364.12,
          32154.39,
          684.5,
          15570.79,
          14115.7,
          15029.63,
          8822.76,
          1629.65,
          5164.53,
          2702.97,
          659.86,
          2518.88,
          887.66,
          590.7,
          17171.04,
          7610.15,
          231.57,
          157.64,
          452.75,
          26.1,
          3980.2,
          1596.03,
          2598.85,
          4361,
          10730.94,
          9145,
          5888.01,
          4545.52,
          925.11,
          23803.33,
          1622.98,
          4804.99,
          1427.2,
          7607.47,
          1431.92,
          1984.8,
          4494.49,
          1040.87,
          542.26,
          1376.6,
          125.91,
          5606.1,
          1140.26,
          8765.8,
          509.83,
          464.09,
          47.8,
          832.63,
          6493.92,
          25.4,
          3865.75,
          792.49,
          4209.29,
          1511.3,
          1112.97,
          3420.47,
          437.4,
          1485.55,
          6923.59,
          5046.25,
          2818.12,
          1124.18,
          249.16,
          1196.54,
          664.31,
          2109.86,
          17.9,
          85.9,
          809.18,
          1102.24,
          5059.24,
          1486.2,
          472.32,
          1638.6,
          1611.99,
          7100.89,
          1744.42,
          1303.1,
          550.3,
          1726.43,
          49.7,
          132.05,
          9519.02,
          1333.35,
          4539.75,
          8167.15,
          1677.47,
          2182.16,
          6531.98,
          7075.69,
          5029.65,
          2577.08,
          4555.98,
          4822.29,
          1753.45,
          32993.5,
          17495.91,
          30276.74,
          24108.77,
          171.88,
          1127.09,
          560.68,
          8887.38,
          14172.83,
          4388.31,
          2490.06,
          566.54,
          2658.31,
          627.74,
          6.5,
          1067.5,
          48.2,
          762.83,
          3918.64,
          3094.98,
          997.08,
          2871.22,
          300.59,
          7181.66,
          906.72,
          13507.83,
          19968.27,
          41684.97,
          132114.02,
          1984.8,
          564508.96,
          277609.09,
          138.6,
          1018040.4400000001
         ]
        }
       ],
       "layout": {
        "coloraxis": {
         "cmax": 40,
         "cmin": 5,
         "colorbar": {
          "title": {
           "text": "median_fare_amount"
          }
         },
         "colorscale": [
          [
           0,
           "rgb(5,48,97)"
          ],
          [
           0.1,
           "rgb(33,102,172)"
          ],
          [
           0.2,
           "rgb(67,147,195)"
          ],
          [
           0.3,
           "rgb(146,197,222)"
          ],
          [
           0.4,
           "rgb(209,229,240)"
          ],
          [
           0.5,
           "rgb(247,247,247)"
          ],
          [
           0.6,
           "rgb(253,219,199)"
          ],
          [
           0.7,
           "rgb(244,165,130)"
          ],
          [
           0.8,
           "rgb(214,96,77)"
          ],
          [
           0.9,
           "rgb(178,24,43)"
          ],
          [
           1,
           "rgb(103,0,31)"
          ]
         ]
        },
        "legend": {
         "tracegroupgap": 0
        },
        "margin": {
         "b": 0,
         "l": 0,
         "r": 0,
         "t": 50
        },
        "template": {
         "data": {
          "bar": [
           {
            "error_x": {
             "color": "#2a3f5f"
            },
            "error_y": {
             "color": "#2a3f5f"
            },
            "marker": {
             "line": {
              "color": "#E5ECF6",
              "width": 0.5
             },
             "pattern": {
              "fillmode": "overlay",
              "size": 10,
              "solidity": 0.2
             }
            },
            "type": "bar"
           }
          ],
          "barpolar": [
           {
            "marker": {
             "line": {
              "color": "#E5ECF6",
              "width": 0.5
             },
             "pattern": {
              "fillmode": "overlay",
              "size": 10,
              "solidity": 0.2
             }
            },
            "type": "barpolar"
           }
          ],
          "carpet": [
           {
            "aaxis": {
             "endlinecolor": "#2a3f5f",
             "gridcolor": "white",
             "linecolor": "white",
             "minorgridcolor": "white",
             "startlinecolor": "#2a3f5f"
            },
            "baxis": {
             "endlinecolor": "#2a3f5f",
             "gridcolor": "white",
             "linecolor": "white",
             "minorgridcolor": "white",
             "startlinecolor": "#2a3f5f"
            },
            "type": "carpet"
           }
          ],
          "choropleth": [
           {
            "colorbar": {
             "outlinewidth": 0,
             "ticks": ""
            },
            "type": "choropleth"
           }
          ],
          "contour": [
           {
            "colorbar": {
             "outlinewidth": 0,
             "ticks": ""
            },
            "colorscale": [
             [
              0,
              "#0d0887"
             ],
             [
              0.1111111111111111,
              "#46039f"
             ],
             [
              0.2222222222222222,
              "#7201a8"
             ],
             [
              0.3333333333333333,
              "#9c179e"
             ],
             [
              0.4444444444444444,
              "#bd3786"
             ],
             [
              0.5555555555555556,
              "#d8576b"
             ],
             [
              0.6666666666666666,
              "#ed7953"
             ],
             [
              0.7777777777777778,
              "#fb9f3a"
             ],
             [
              0.8888888888888888,
              "#fdca26"
             ],
             [
              1,
              "#f0f921"
             ]
            ],
            "type": "contour"
           }
          ],
          "contourcarpet": [
           {
            "colorbar": {
             "outlinewidth": 0,
             "ticks": ""
            },
            "type": "contourcarpet"
           }
          ],
          "heatmap": [
           {
            "colorbar": {
             "outlinewidth": 0,
             "ticks": ""
            },
            "colorscale": [
             [
              0,
              "#0d0887"
             ],
             [
              0.1111111111111111,
              "#46039f"
             ],
             [
              0.2222222222222222,
              "#7201a8"
             ],
             [
              0.3333333333333333,
              "#9c179e"
             ],
             [
              0.4444444444444444,
              "#bd3786"
             ],
             [
              0.5555555555555556,
              "#d8576b"
             ],
             [
              0.6666666666666666,
              "#ed7953"
             ],
             [
              0.7777777777777778,
              "#fb9f3a"
             ],
             [
              0.8888888888888888,
              "#fdca26"
             ],
             [
              1,
              "#f0f921"
             ]
            ],
            "type": "heatmap"
           }
          ],
          "heatmapgl": [
           {
            "colorbar": {
             "outlinewidth": 0,
             "ticks": ""
            },
            "colorscale": [
             [
              0,
              "#0d0887"
             ],
             [
              0.1111111111111111,
              "#46039f"
             ],
             [
              0.2222222222222222,
              "#7201a8"
             ],
             [
              0.3333333333333333,
              "#9c179e"
             ],
             [
              0.4444444444444444,
              "#bd3786"
             ],
             [
              0.5555555555555556,
              "#d8576b"
             ],
             [
              0.6666666666666666,
              "#ed7953"
             ],
             [
              0.7777777777777778,
              "#fb9f3a"
             ],
             [
              0.8888888888888888,
              "#fdca26"
             ],
             [
              1,
              "#f0f921"
             ]
            ],
            "type": "heatmapgl"
           }
          ],
          "histogram": [
           {
            "marker": {
             "pattern": {
              "fillmode": "overlay",
              "size": 10,
              "solidity": 0.2
             }
            },
            "type": "histogram"
           }
          ],
          "histogram2d": [
           {
            "colorbar": {
             "outlinewidth": 0,
             "ticks": ""
            },
            "colorscale": [
             [
              0,
              "#0d0887"
             ],
             [
              0.1111111111111111,
              "#46039f"
             ],
             [
              0.2222222222222222,
              "#7201a8"
             ],
             [
              0.3333333333333333,
              "#9c179e"
             ],
             [
              0.4444444444444444,
              "#bd3786"
             ],
             [
              0.5555555555555556,
              "#d8576b"
             ],
             [
              0.6666666666666666,
              "#ed7953"
             ],
             [
              0.7777777777777778,
              "#fb9f3a"
             ],
             [
              0.8888888888888888,
              "#fdca26"
             ],
             [
              1,
              "#f0f921"
             ]
            ],
            "type": "histogram2d"
           }
          ],
          "histogram2dcontour": [
           {
            "colorbar": {
             "outlinewidth": 0,
             "ticks": ""
            },
            "colorscale": [
             [
              0,
              "#0d0887"
             ],
             [
              0.1111111111111111,
              "#46039f"
             ],
             [
              0.2222222222222222,
              "#7201a8"
             ],
             [
              0.3333333333333333,
              "#9c179e"
             ],
             [
              0.4444444444444444,
              "#bd3786"
             ],
             [
              0.5555555555555556,
              "#d8576b"
             ],
             [
              0.6666666666666666,
              "#ed7953"
             ],
             [
              0.7777777777777778,
              "#fb9f3a"
             ],
             [
              0.8888888888888888,
              "#fdca26"
             ],
             [
              1,
              "#f0f921"
             ]
            ],
            "type": "histogram2dcontour"
           }
          ],
          "mesh3d": [
           {
            "colorbar": {
             "outlinewidth": 0,
             "ticks": ""
            },
            "type": "mesh3d"
           }
          ],
          "parcoords": [
           {
            "line": {
             "colorbar": {
              "outlinewidth": 0,
              "ticks": ""
             }
            },
            "type": "parcoords"
           }
          ],
          "pie": [
           {
            "automargin": true,
            "type": "pie"
           }
          ],
          "scatter": [
           {
            "fillpattern": {
             "fillmode": "overlay",
             "size": 10,
             "solidity": 0.2
            },
            "type": "scatter"
           }
          ],
          "scatter3d": [
           {
            "line": {
             "colorbar": {
              "outlinewidth": 0,
              "ticks": ""
             }
            },
            "marker": {
             "colorbar": {
              "outlinewidth": 0,
              "ticks": ""
             }
            },
            "type": "scatter3d"
           }
          ],
          "scattercarpet": [
           {
            "marker": {
             "colorbar": {
              "outlinewidth": 0,
              "ticks": ""
             }
            },
            "type": "scattercarpet"
           }
          ],
          "scattergeo": [
           {
            "marker": {
             "colorbar": {
              "outlinewidth": 0,
              "ticks": ""
             }
            },
            "type": "scattergeo"
           }
          ],
          "scattergl": [
           {
            "marker": {
             "colorbar": {
              "outlinewidth": 0,
              "ticks": ""
             }
            },
            "type": "scattergl"
           }
          ],
          "scattermapbox": [
           {
            "marker": {
             "colorbar": {
              "outlinewidth": 0,
              "ticks": ""
             }
            },
            "type": "scattermapbox"
           }
          ],
          "scatterpolar": [
           {
            "marker": {
             "colorbar": {
              "outlinewidth": 0,
              "ticks": ""
             }
            },
            "type": "scatterpolar"
           }
          ],
          "scatterpolargl": [
           {
            "marker": {
             "colorbar": {
              "outlinewidth": 0,
              "ticks": ""
             }
            },
            "type": "scatterpolargl"
           }
          ],
          "scatterternary": [
           {
            "marker": {
             "colorbar": {
              "outlinewidth": 0,
              "ticks": ""
             }
            },
            "type": "scatterternary"
           }
          ],
          "surface": [
           {
            "colorbar": {
             "outlinewidth": 0,
             "ticks": ""
            },
            "colorscale": [
             [
              0,
              "#0d0887"
             ],
             [
              0.1111111111111111,
              "#46039f"
             ],
             [
              0.2222222222222222,
              "#7201a8"
             ],
             [
              0.3333333333333333,
              "#9c179e"
             ],
             [
              0.4444444444444444,
              "#bd3786"
             ],
             [
              0.5555555555555556,
              "#d8576b"
             ],
             [
              0.6666666666666666,
              "#ed7953"
             ],
             [
              0.7777777777777778,
              "#fb9f3a"
             ],
             [
              0.8888888888888888,
              "#fdca26"
             ],
             [
              1,
              "#f0f921"
             ]
            ],
            "type": "surface"
           }
          ],
          "table": [
           {
            "cells": {
             "fill": {
              "color": "#EBF0F8"
             },
             "line": {
              "color": "white"
             }
            },
            "header": {
             "fill": {
              "color": "#C8D4E3"
             },
             "line": {
              "color": "white"
             }
            },
            "type": "table"
           }
          ]
         },
         "layout": {
          "annotationdefaults": {
           "arrowcolor": "#2a3f5f",
           "arrowhead": 0,
           "arrowwidth": 1
          },
          "autotypenumbers": "strict",
          "coloraxis": {
           "colorbar": {
            "outlinewidth": 0,
            "ticks": ""
           }
          },
          "colorscale": {
           "diverging": [
            [
             0,
             "#8e0152"
            ],
            [
             0.1,
             "#c51b7d"
            ],
            [
             0.2,
             "#de77ae"
            ],
            [
             0.3,
             "#f1b6da"
            ],
            [
             0.4,
             "#fde0ef"
            ],
            [
             0.5,
             "#f7f7f7"
            ],
            [
             0.6,
             "#e6f5d0"
            ],
            [
             0.7,
             "#b8e186"
            ],
            [
             0.8,
             "#7fbc41"
            ],
            [
             0.9,
             "#4d9221"
            ],
            [
             1,
             "#276419"
            ]
           ],
           "sequential": [
            [
             0,
             "#0d0887"
            ],
            [
             0.1111111111111111,
             "#46039f"
            ],
            [
             0.2222222222222222,
             "#7201a8"
            ],
            [
             0.3333333333333333,
             "#9c179e"
            ],
            [
             0.4444444444444444,
             "#bd3786"
            ],
            [
             0.5555555555555556,
             "#d8576b"
            ],
            [
             0.6666666666666666,
             "#ed7953"
            ],
            [
             0.7777777777777778,
             "#fb9f3a"
            ],
            [
             0.8888888888888888,
             "#fdca26"
            ],
            [
             1,
             "#f0f921"
            ]
           ],
           "sequentialminus": [
            [
             0,
             "#0d0887"
            ],
            [
             0.1111111111111111,
             "#46039f"
            ],
            [
             0.2222222222222222,
             "#7201a8"
            ],
            [
             0.3333333333333333,
             "#9c179e"
            ],
            [
             0.4444444444444444,
             "#bd3786"
            ],
            [
             0.5555555555555556,
             "#d8576b"
            ],
            [
             0.6666666666666666,
             "#ed7953"
            ],
            [
             0.7777777777777778,
             "#fb9f3a"
            ],
            [
             0.8888888888888888,
             "#fdca26"
            ],
            [
             1,
             "#f0f921"
            ]
           ]
          },
          "colorway": [
           "#636efa",
           "#EF553B",
           "#00cc96",
           "#ab63fa",
           "#FFA15A",
           "#19d3f3",
           "#FF6692",
           "#B6E880",
           "#FF97FF",
           "#FECB52"
          ],
          "font": {
           "color": "#2a3f5f"
          },
          "geo": {
           "bgcolor": "white",
           "lakecolor": "white",
           "landcolor": "#E5ECF6",
           "showlakes": true,
           "showland": true,
           "subunitcolor": "white"
          },
          "hoverlabel": {
           "align": "left"
          },
          "hovermode": "closest",
          "mapbox": {
           "style": "light"
          },
          "paper_bgcolor": "white",
          "plot_bgcolor": "#E5ECF6",
          "polar": {
           "angularaxis": {
            "gridcolor": "white",
            "linecolor": "white",
            "ticks": ""
           },
           "bgcolor": "#E5ECF6",
           "radialaxis": {
            "gridcolor": "white",
            "linecolor": "white",
            "ticks": ""
           }
          },
          "scene": {
           "xaxis": {
            "backgroundcolor": "#E5ECF6",
            "gridcolor": "white",
            "gridwidth": 2,
            "linecolor": "white",
            "showbackground": true,
            "ticks": "",
            "zerolinecolor": "white"
           },
           "yaxis": {
            "backgroundcolor": "#E5ECF6",
            "gridcolor": "white",
            "gridwidth": 2,
            "linecolor": "white",
            "showbackground": true,
            "ticks": "",
            "zerolinecolor": "white"
           },
           "zaxis": {
            "backgroundcolor": "#E5ECF6",
            "gridcolor": "white",
            "gridwidth": 2,
            "linecolor": "white",
            "showbackground": true,
            "ticks": "",
            "zerolinecolor": "white"
           }
          },
          "shapedefaults": {
           "line": {
            "color": "#2a3f5f"
           }
          },
          "ternary": {
           "aaxis": {
            "gridcolor": "white",
            "linecolor": "white",
            "ticks": ""
           },
           "baxis": {
            "gridcolor": "white",
            "linecolor": "white",
            "ticks": ""
           },
           "bgcolor": "#E5ECF6",
           "caxis": {
            "gridcolor": "white",
            "linecolor": "white",
            "ticks": ""
           }
          },
          "title": {
           "x": 0.05
          },
          "xaxis": {
           "automargin": true,
           "gridcolor": "white",
           "linecolor": "white",
           "ticks": "",
           "title": {
            "standoff": 15
           },
           "zerolinecolor": "white",
           "zerolinewidth": 2
          },
          "yaxis": {
           "automargin": true,
           "gridcolor": "white",
           "linecolor": "white",
           "ticks": "",
           "title": {
            "standoff": 15
           },
           "zerolinecolor": "white",
           "zerolinewidth": 2
          }
         }
        },
        "title": {
         "text": "Heatmap for Average fare amount based on Drop off Location"
        }
       }
      }
     },
     "metadata": {},
     "output_type": "display_data"
    }
   ],
   "source": [
    "import plotly.express as px\n",
    "\n",
    "puzone_amount = df.groupby(['DOBorough', 'DOZone']).agg(trip_count=('fare_amount', 'count'), \n",
    "                                                        total_fare_amount=('fare_amount', 'sum'),\n",
    "                                                        avg_fare_amount=('fare_amount', 'mean'),\n",
    "                                                        median_fare_amount=('fare_amount', 'median')\n",
    "                                                        ).sort_values(by='total_fare_amount', ascending=False).reset_index().round(2)\n",
    "\n",
    "fig = px.treemap(puzone_amount, \n",
    "                 path=[px.Constant(\"All\"), 'DOBorough', 'DOZone'], \n",
    "                 values='total_fare_amount', \n",
    "                 color='median_fare_amount',\n",
    "                 color_continuous_scale='RdBu_r',\n",
    "                 range_color=[5, 40],\n",
    "                 custom_data=['trip_count', 'median_fare_amount'],\n",
    "                 title='Heatmap for Average fare amount based on Drop off Location')\n",
    "fig.update_traces(hovertemplate='<b>%{label}</b><br>Total Fare: %{value}<br>Trip Count: %{customdata[0]}<br>Median Fare: %{customdata[1]:.2f}')\n",
    "fig.update_layout(margin = dict(t=50, l=0, r=0, b=0))\n",
    "fig.update_traces(marker=dict(cornerradius=2))\n",
    "fig.show()"
   ]
  },
  {
   "cell_type": "code",
   "execution_count": 46,
   "metadata": {},
   "outputs": [],
   "source": [
    "trip_amount_dist = df.groupby(['PUZone', 'DOZone']).agg(trip_count=('PUZone', 'count'),\n",
    "                                                        total_fare=('fare_amount', 'sum'), \n",
    "                                                        avg_fare=('fare_amount', 'mean'),\n",
    "                                                        total_tip=('tip_amount', 'sum'), \n",
    "                                                        avg_tip=('tip_amount', 'mean')).reset_index().sort_values(by=['trip_count'], ascending=False).head(10).round(2)\n",
    "route = trip_amount_dist['PUZone'] + \" - \" + trip_amount_dist['DOZone']\n",
    "trip_amount_dist.insert(0, 'Route', route)\n",
    "trip_amount_dist.drop(columns=['PUZone', 'DOZone'], inplace=True)"
   ]
  },
  {
   "cell_type": "code",
   "execution_count": 47,
   "metadata": {},
   "outputs": [
    {
     "data": {
      "image/png": "[encoded data removed]",
      "text/plain": [
       "<Figure size 1080x360 with 1 Axes>"
      ]
     },
     "metadata": {},
     "output_type": "display_data"
    }
   ],
   "source": [
    "plt.figure(figsize=(15,5))\n",
    "data = trip_amount_dist.sort_values(by='avg_fare', ascending=False)\n",
    "bars = sns.barplot(data=data,\n",
    "                   y='Route', \n",
    "                   x='avg_fare', \n",
    "                   palette=scale)\n",
    "for idx, bar in enumerate(bars.patches):\n",
    "    y_value = bar.get_y() + bar.get_height() / 1.6\n",
    "    x_value = bar.get_width() + 0.25\n",
    "    label = \"{:.2f}\".format(data['avg_fare'].iloc[idx]) \n",
    "    plt.text(x_value, y_value, label, ha='center')\n",
    "plt.xlabel('Average fare amount (USD)')\n",
    "plt.ylabel('Route')\n",
    "plt.title('Top 10 Average Fare Amount per Trip', fontsize=15)\n",
    "\n",
    "plt.show()"
   ]
  },
  {
   "cell_type": "markdown",
   "metadata": {},
   "source": [
    "**Insights**  \n",
    "\n",
    "- The top 10 routes with the highest average fare amounts based on the highest trip volumes include:  \n",
    "\n",
    "  - East Harlem North - Upper West Side North: $16  \n",
    "  - East Harlem North - Upper Yorkville West: $13  \n",
    "  - East Harlem North - Upper East Side North: $12  \n",
    "  - And lastly, East Harlem North - Central Harlem: $8.  "
   ]
  },
  {
   "cell_type": "code",
   "execution_count": 48,
   "metadata": {},
   "outputs": [],
   "source": [
    "trip_data = pd.read_csv(\"data/train_data/train.csv\")"
   ]
  },
  {
   "cell_type": "code",
   "execution_count": 49,
   "metadata": {},
   "outputs": [],
   "source": [
    "# @title 2.1 - 🧼 Cleaning Up and Organizing Raw Data { form-width: \"200px\", display-mode: \"form\" }\n",
    "def fancy_taxi_data(dataframe):\n",
    "\n",
    "    # create a column for pickup year, pickup month, pickup day and a column for pick up time\n",
    "    dataframe[\"pickup_year\"] = pd.to_datetime(dataframe[\"pickup_datetime\"]).dt.year\n",
    "    dataframe[\"pickup_month\"] = pd.to_datetime(dataframe[\"pickup_datetime\"]).dt.month\n",
    "    dataframe[\"pickup_day\"] = pd.to_datetime(dataframe[\"pickup_datetime\"]).dt.day\n",
    "    dataframe[\"pickup_time\"] = pd.to_datetime(dataframe[\"pickup_datetime\"]).dt.time\n",
    "\n",
    "    # create a column for drop-off year, pickup month, pickup day and a column for pick up time\n",
    "    dataframe[\"dropoff_year\"] = pd.to_datetime(dataframe[\"dropoff_datetime\"]).dt.year\n",
    "    dataframe[\"dropoff_month\"] = pd.to_datetime(dataframe[\"dropoff_datetime\"]).dt.month\n",
    "    dataframe[\"dropoff_day\"] = pd.to_datetime(dataframe[\"dropoff_datetime\"]).dt.day\n",
    "    dataframe[\"dropoff_time\"] = pd.to_datetime(dataframe[\"dropoff_datetime\"]).dt.time\n",
    "\n",
    "    # Create a column for the day of the week for pickup and dropoff\n",
    "    dataframe[\"pickup_day_of_week\"] = pd.to_datetime(\n",
    "        dataframe[\"pickup_datetime\"]\n",
    "    ).dt.day_name()\n",
    "    dataframe[\"dropoff_day_of_week\"] = pd.to_datetime(\n",
    "        dataframe[\"dropoff_datetime\"]\n",
    "    ).dt.day_name()\n",
    "\n",
    "    # Add a column with 1 if the day is weekday and 0 for weekend\n",
    "    dataframe[\"is_weekday\"] = dataframe[\"pickup_day_of_week\"].apply(\n",
    "        lambda x: 0 if x in [\"Saturday\", \"Sunday\"] else 1\n",
    "    )\n",
    "\n",
    "    # Add a column for the distance between the pickup and dropoff locations\n",
    "    dataframe[\"distance_miles\"] = (\n",
    "        np.sqrt(\n",
    "            (dataframe[\"pickup_latitude\"] - dataframe[\"dropoff_latitude\"]) ** 2\n",
    "            + (dataframe[\"pickup_longitude\"] - dataframe[\"dropoff_longitude\"]) ** 2\n",
    "        )\n",
    "        * 69\n",
    "    ).round(2)\n",
    "\n",
    "    # Remove the pickup_datetime and dropoff_datetime columns as well as the vendor id and flag columns\n",
    "    dataframe.drop([\"pickup_datetime\", \"dropoff_datetime\"], axis=1, inplace=True)\n",
    "    dataframe.drop([\"id\", \"vendor_id\", \"store_and_fwd_flag\"], axis=1, inplace=True)\n",
    "\n",
    "    return dataframe"
   ]
  },
  {
   "cell_type": "code",
   "execution_count": 50,
   "metadata": {},
   "outputs": [],
   "source": [
    "trip_data = fancy_taxi_data(trip_data)"
   ]
  },
  {
   "cell_type": "code",
   "execution_count": 51,
   "metadata": {},
   "outputs": [],
   "source": [
    "# @title 2.2.1 - ⏰ add_daytime_categories() { display-mode: \"form\" }\n",
    "# @title  { display-mode: \"form\" }\n",
    "def add_daytime_categories(dataframe):\n",
    "    # Create a dictionary for different times of day\n",
    "    daytime_categories = {\n",
    "        \"middle_of_night\": [\"00:00:00\", \"03:59:59\"],\n",
    "        \"early_morning\": [\"04:00:00\", \"07:59:59\"],\n",
    "        \"morning\": [\"08:00:00\", \"11:59:59\"],\n",
    "        \"afternoon\": [\"12:00:00\", \"15:59:59\"],\n",
    "        \"evening\": [\"16:00:00\", \"19:59:59\"],\n",
    "        \"night\": [\"20:00:00\", \"23:59:59\"],\n",
    "    }\n",
    "\n",
    "    # Convert daytime_categories to datetime objects\n",
    "    for category, times in daytime_categories.items():\n",
    "        daytime_categories[category] = [pd.to_datetime(time).time() for time in times]\n",
    "\n",
    "    # Create a daytime_category column for pickup time\n",
    "    def daytime_category(time):\n",
    "        for category, times in daytime_categories.items():\n",
    "            if times[0] <= time <= times[1]:\n",
    "                return category\n",
    "\n",
    "    # Apply the daytime_category function to the pickup_time column\n",
    "    dataframe[\"pickup_daytime_category\"] = dataframe[\"pickup_time\"].apply(\n",
    "        daytime_category\n",
    "    )\n",
    "    # Apply the daytime_category function to the dropoff_time column\n",
    "    dataframe[\"dropoff_daytime_category\"] = dataframe[\"dropoff_time\"].apply(\n",
    "        daytime_category\n",
    "    )\n",
    "\n",
    "    return dataframe"
   ]
  },
  {
   "cell_type": "code",
   "execution_count": 52,
   "metadata": {},
   "outputs": [],
   "source": [
    "trip_data = add_daytime_categories(trip_data)"
   ]
  },
  {
   "cell_type": "code",
   "execution_count": 53,
   "metadata": {},
   "outputs": [],
   "source": [
    "# Add a column with trip duration in minutes with two decimal places\n",
    "trip_data[\"trip_duration_minutes\"] = trip_data[\"trip_duration\"].apply(\n",
    "    lambda x: round(x / 60, 2)\n",
    ")"
   ]
  },
  {
   "cell_type": "code",
   "execution_count": 54,
   "metadata": {},
   "outputs": [
    {
     "data": {
      "text/html": [
       "<div>\n",
       "<style scoped>\n",
       "    .dataframe tbody tr th:only-of-type {\n",
       "        vertical-align: middle;\n",
       "    }\n",
       "\n",
       "    .dataframe tbody tr th {\n",
       "        vertical-align: top;\n",
       "    }\n",
       "\n",
       "    .dataframe thead th {\n",
       "        text-align: right;\n",
       "    }\n",
       "</style>\n",
       "<table border=\"1\" class=\"dataframe\">\n",
       "  <thead>\n",
       "    <tr style=\"text-align: right;\">\n",
       "      <th></th>\n",
       "      <th>passenger_count</th>\n",
       "      <th>pickup_longitude</th>\n",
       "      <th>pickup_latitude</th>\n",
       "      <th>dropoff_longitude</th>\n",
       "      <th>dropoff_latitude</th>\n",
       "      <th>trip_duration</th>\n",
       "      <th>pickup_year</th>\n",
       "      <th>pickup_month</th>\n",
       "      <th>pickup_day</th>\n",
       "      <th>pickup_time</th>\n",
       "      <th>dropoff_year</th>\n",
       "      <th>dropoff_month</th>\n",
       "      <th>dropoff_day</th>\n",
       "      <th>dropoff_time</th>\n",
       "      <th>pickup_day_of_week</th>\n",
       "      <th>dropoff_day_of_week</th>\n",
       "      <th>is_weekday</th>\n",
       "      <th>distance_miles</th>\n",
       "      <th>pickup_daytime_category</th>\n",
       "      <th>dropoff_daytime_category</th>\n",
       "      <th>trip_duration_minutes</th>\n",
       "    </tr>\n",
       "  </thead>\n",
       "  <tbody>\n",
       "    <tr>\n",
       "      <th>0</th>\n",
       "      <td>1</td>\n",
       "      <td>-73.982155</td>\n",
       "      <td>40.767937</td>\n",
       "      <td>-73.964630</td>\n",
       "      <td>40.765602</td>\n",
       "      <td>455</td>\n",
       "      <td>2016</td>\n",
       "      <td>3</td>\n",
       "      <td>14</td>\n",
       "      <td>17:24:55</td>\n",
       "      <td>2016</td>\n",
       "      <td>3</td>\n",
       "      <td>14</td>\n",
       "      <td>17:32:30</td>\n",
       "      <td>Monday</td>\n",
       "      <td>Monday</td>\n",
       "      <td>1</td>\n",
       "      <td>1.22</td>\n",
       "      <td>evening</td>\n",
       "      <td>evening</td>\n",
       "      <td>7.58</td>\n",
       "    </tr>\n",
       "    <tr>\n",
       "      <th>1</th>\n",
       "      <td>1</td>\n",
       "      <td>-73.980415</td>\n",
       "      <td>40.738564</td>\n",
       "      <td>-73.999481</td>\n",
       "      <td>40.731152</td>\n",
       "      <td>663</td>\n",
       "      <td>2016</td>\n",
       "      <td>6</td>\n",
       "      <td>12</td>\n",
       "      <td>00:43:35</td>\n",
       "      <td>2016</td>\n",
       "      <td>6</td>\n",
       "      <td>12</td>\n",
       "      <td>00:54:38</td>\n",
       "      <td>Sunday</td>\n",
       "      <td>Sunday</td>\n",
       "      <td>0</td>\n",
       "      <td>1.41</td>\n",
       "      <td>middle_of_night</td>\n",
       "      <td>middle_of_night</td>\n",
       "      <td>11.05</td>\n",
       "    </tr>\n",
       "    <tr>\n",
       "      <th>2</th>\n",
       "      <td>1</td>\n",
       "      <td>-73.979027</td>\n",
       "      <td>40.763939</td>\n",
       "      <td>-74.005333</td>\n",
       "      <td>40.710087</td>\n",
       "      <td>2124</td>\n",
       "      <td>2016</td>\n",
       "      <td>1</td>\n",
       "      <td>19</td>\n",
       "      <td>11:35:24</td>\n",
       "      <td>2016</td>\n",
       "      <td>1</td>\n",
       "      <td>19</td>\n",
       "      <td>12:10:48</td>\n",
       "      <td>Tuesday</td>\n",
       "      <td>Tuesday</td>\n",
       "      <td>1</td>\n",
       "      <td>4.14</td>\n",
       "      <td>morning</td>\n",
       "      <td>afternoon</td>\n",
       "      <td>35.40</td>\n",
       "    </tr>\n",
       "    <tr>\n",
       "      <th>3</th>\n",
       "      <td>1</td>\n",
       "      <td>-74.010040</td>\n",
       "      <td>40.719971</td>\n",
       "      <td>-74.012268</td>\n",
       "      <td>40.706718</td>\n",
       "      <td>429</td>\n",
       "      <td>2016</td>\n",
       "      <td>4</td>\n",
       "      <td>6</td>\n",
       "      <td>19:32:31</td>\n",
       "      <td>2016</td>\n",
       "      <td>4</td>\n",
       "      <td>6</td>\n",
       "      <td>19:39:40</td>\n",
       "      <td>Wednesday</td>\n",
       "      <td>Wednesday</td>\n",
       "      <td>1</td>\n",
       "      <td>0.93</td>\n",
       "      <td>evening</td>\n",
       "      <td>evening</td>\n",
       "      <td>7.15</td>\n",
       "    </tr>\n",
       "    <tr>\n",
       "      <th>4</th>\n",
       "      <td>1</td>\n",
       "      <td>-73.973053</td>\n",
       "      <td>40.793209</td>\n",
       "      <td>-73.972923</td>\n",
       "      <td>40.782520</td>\n",
       "      <td>435</td>\n",
       "      <td>2016</td>\n",
       "      <td>3</td>\n",
       "      <td>26</td>\n",
       "      <td>13:30:55</td>\n",
       "      <td>2016</td>\n",
       "      <td>3</td>\n",
       "      <td>26</td>\n",
       "      <td>13:38:10</td>\n",
       "      <td>Saturday</td>\n",
       "      <td>Saturday</td>\n",
       "      <td>0</td>\n",
       "      <td>0.74</td>\n",
       "      <td>afternoon</td>\n",
       "      <td>afternoon</td>\n",
       "      <td>7.25</td>\n",
       "    </tr>\n",
       "  </tbody>\n",
       "</table>\n",
       "</div>"
      ],
      "text/plain": [
       "   passenger_count  pickup_longitude  pickup_latitude  dropoff_longitude  \\\n",
       "0                1        -73.982155        40.767937         -73.964630   \n",
       "1                1        -73.980415        40.738564         -73.999481   \n",
       "2                1        -73.979027        40.763939         -74.005333   \n",
       "3                1        -74.010040        40.719971         -74.012268   \n",
       "4                1        -73.973053        40.793209         -73.972923   \n",
       "\n",
       "   dropoff_latitude  trip_duration  pickup_year  pickup_month  pickup_day  \\\n",
       "0         40.765602            455         2016             3          14   \n",
       "1         40.731152            663         2016             6          12   \n",
       "2         40.710087           2124         2016             1          19   \n",
       "3         40.706718            429         2016             4           6   \n",
       "4         40.782520            435         2016             3          26   \n",
       "\n",
       "  pickup_time  dropoff_year  dropoff_month  dropoff_day dropoff_time  \\\n",
       "0    17:24:55          2016              3           14     17:32:30   \n",
       "1    00:43:35          2016              6           12     00:54:38   \n",
       "2    11:35:24          2016              1           19     12:10:48   \n",
       "3    19:32:31          2016              4            6     19:39:40   \n",
       "4    13:30:55          2016              3           26     13:38:10   \n",
       "\n",
       "  pickup_day_of_week dropoff_day_of_week  is_weekday  distance_miles  \\\n",
       "0             Monday              Monday           1            1.22   \n",
       "1             Sunday              Sunday           0            1.41   \n",
       "2            Tuesday             Tuesday           1            4.14   \n",
       "3          Wednesday           Wednesday           1            0.93   \n",
       "4           Saturday            Saturday           0            0.74   \n",
       "\n",
       "  pickup_daytime_category dropoff_daytime_category  trip_duration_minutes  \n",
       "0                 evening                  evening                   7.58  \n",
       "1         middle_of_night          middle_of_night                  11.05  \n",
       "2                 morning                afternoon                  35.40  \n",
       "3                 evening                  evening                   7.15  \n",
       "4               afternoon                afternoon                   7.25  "
      ]
     },
     "execution_count": 54,
     "metadata": {},
     "output_type": "execute_result"
    }
   ],
   "source": [
    "trip_data.head(5)"
   ]
  },
  {
   "cell_type": "code",
   "execution_count": 55,
   "metadata": {},
   "outputs": [],
   "source": [
    "trip_data[\"miles_per_hour\"] = trip_data[\"distance_miles\"] / (\n",
    "    trip_data[\"trip_duration_minutes\"] / 60\n",
    ")"
   ]
  },
  {
   "cell_type": "code",
   "execution_count": 56,
   "metadata": {},
   "outputs": [],
   "source": [
    "# @title 3.9 - ➤ \"taxi_pruned\"  = removing the outliers as specified and reordering columns { display-mode: \"form\" }\n",
    "# @title\n",
    "def remove_outliers_fix_columns(dataframe):\n",
    "    # Remove rows where the duration is greater than 5 hours and less than 1 minute\n",
    "    dataframe = dataframe[\n",
    "        (dataframe[\"trip_duration_minutes\"] < 300)\n",
    "        & (dataframe[\"trip_duration_minutes\"] > 1)\n",
    "    ]\n",
    "    # Remove rows where the distance is greater than 100 miles and less than 0.1 miles\n",
    "    dataframe = dataframe[\n",
    "        (dataframe[\"distance_miles\"] < 75) & (dataframe[\"distance_miles\"] > 0.05)\n",
    "    ]\n",
    "    # Remove rows where the speed in miles per hour is greater than 100 mph\n",
    "    dataframe = dataframe[\n",
    "        (dataframe[\"miles_per_hour\"] < 85) & (dataframe[\"miles_per_hour\"] > 2)\n",
    "    ]\n",
    "\n",
    "    # Ordering the columns so that the new miles per hour column comes directly following the distance traveled\n",
    "    column_order = [\n",
    "        \"trip_duration\",\n",
    "        \"trip_duration_minutes\",\n",
    "        \"duration_category\",\n",
    "        \"distance_miles\",\n",
    "        \"miles_per_hour\",\n",
    "        \"is_weekday\",\n",
    "        \"pickup_day_of_week\",\n",
    "        \"pickup_daytime_category\",\n",
    "        \"pickup_year\",\n",
    "        \"pickup_month\",\n",
    "        \"pickup_day\",\n",
    "        \"pickup_time\",\n",
    "        \"dropoff_day_of_week\",\n",
    "        \"dropoff_daytime_category\",\n",
    "        \"dropoff_year\",\n",
    "        \"dropoff_month\",\n",
    "        \"dropoff_day\",\n",
    "        \"dropoff_time\",\n",
    "        \"passenger_count\",\n",
    "        \"pickup_longitude\",\n",
    "        \"pickup_latitude\",\n",
    "        \"dropoff_longitude\",\n",
    "        \"dropoff_latitude\",\n",
    "    ]\n",
    "    dataframe = dataframe.reindex(columns=column_order)\n",
    "\n",
    "    # Shortening the column names so that we can see more when we display parts of our data\n",
    "    dataframe.rename(\n",
    "        columns={\n",
    "            \"trip_duration\": \"dur_sec\",\n",
    "            \"trip_duration_minutes\": \"dur_min\",\n",
    "            \"duration_category\": \"dur_cat\",\n",
    "            \"distance_miles\": \"dis_mi\",\n",
    "            \"miles_per_hour\": \"mph\",\n",
    "            \"is_weekday\": \"is_wkdy\",\n",
    "            \"pickup_day_of_week\": \"pu_dow\",\n",
    "            \"pickup_daytime_category\": \"pu_dtc\",\n",
    "            \"pickup_year\": \"pu_yr\",\n",
    "            \"pickup_month\": \"pu_mo\",\n",
    "            \"pickup_day\": \"pu_dy\",\n",
    "            \"pickup_time\": \"pu_tm\",\n",
    "            \"dropoff_day_of_week\": \"do_dow\",\n",
    "            \"dropoff_daytime_category\": \"do_dtc\",\n",
    "            \"dropoff_year\": \"do_yr\",\n",
    "            \"dropoff_month\": \"do_mo\",\n",
    "            \"dropoff_day\": \"do_dy\",\n",
    "            \"dropoff_time\": \"do_tm\",\n",
    "            \"passenger_count\": \"pass_cnt\",\n",
    "            \"pickup_longitude\": \"pu_lon\",\n",
    "            \"pickup_latitude\": \"pu_lat\",\n",
    "            \"dropoff_longitude\": \"do_lon\",\n",
    "            \"dropoff_latitude\": \"do_lat\",\n",
    "        },\n",
    "        inplace=True,\n",
    "    )\n",
    "    return dataframe"
   ]
  },
  {
   "cell_type": "code",
   "execution_count": 57,
   "metadata": {},
   "outputs": [],
   "source": [
    "trip_data = remove_outliers_fix_columns(trip_data)"
   ]
  },
  {
   "cell_type": "code",
   "execution_count": 58,
   "metadata": {},
   "outputs": [
    {
     "data": {
      "application/vnd.plotly.v1+json": {
       "config": {
        "plotlyServerURL": "https://plot.ly"
       },
       "data": [
        {
         "hovertemplate": "<br><b>Distance</b>: %{customdata[0]: .2f} miles<br><br><b>Duration </b>: %{customdata[1]: .2f} min<br><br><b>Time </b>: %{customdata[2]}<br>",
         "lat": [
          40.75089645385742,
          40.75495910644531,
          40.77301025390625,
          40.757183074951165,
          40.75160217285156,
          40.71343994140625,
          40.74472427368164,
          40.75748062133789,
          40.75403594970703,
          40.76338577270508,
          40.78534698486328,
          40.77824783325195,
          40.72210693359375,
          40.78108978271485,
          40.76446914672852,
          40.74578857421875,
          40.722930908203125,
          40.764846801757805,
          40.755565643310554,
          40.737152099609375,
          40.68498992919922,
          40.717529296875,
          40.766555786132805,
          40.72160720825195,
          40.75399017333984,
          40.77376174926758,
          40.76622772216797,
          40.714519500732415,
          40.77421188354492,
          40.76840972900391,
          40.76556396484375,
          40.7153205871582,
          40.77904891967773,
          40.73318862915039,
          40.75014114379882,
          40.77048110961913,
          40.74995040893555,
          40.704498291015625,
          40.7830924987793,
          40.77671813964844,
          40.75858688354492,
          40.7551383972168,
          40.79227828979492,
          40.753463745117195,
          40.64370346069336,
          40.74371719360352,
          40.7333984375,
          40.75650024414063,
          40.7789421081543,
          40.76493835449219,
          40.75601959228516,
          40.738468170166016,
          40.77897644042969,
          40.73337173461913,
          40.76677703857422,
          40.7615623474121,
          40.77804183959961,
          40.72272109985352,
          40.64094161987305,
          40.76900863647461,
          40.75577545166016,
          40.75490188598633,
          40.732330322265625,
          40.73178482055664,
          40.758613586425774,
          40.72695159912109,
          40.75204849243164,
          40.68524932861328,
          40.73653030395508,
          40.76022338867188,
          40.74034118652344,
          40.74822998046875,
          40.76519012451172,
          40.752796173095696,
          40.77157211303711,
          40.76792144775391,
          40.71636962890625,
          40.71177673339844,
          40.710819244384766,
          40.76470565795898
         ],
         "legendgroup": "",
         "lon": [
          -73.99070739746092,
          -73.97563934326173,
          -73.9584732055664,
          -73.99015045166014,
          -73.98016357421875,
          -74.0037384033203,
          -73.99109649658203,
          -73.98377990722656,
          -73.97406005859375,
          -73.9720687866211,
          -73.95582580566406,
          -73.95646667480467,
          -73.99713134765625,
          -73.95873260498048,
          -73.98246002197266,
          -73.92189025878906,
          -73.99813079833984,
          -73.96308898925781,
          -73.98766326904298,
          -74.0017852783203,
          -74.0028076171875,
          -74.00025939941406,
          -73.98296356201173,
          -73.99337768554686,
          -73.97525024414062,
          -73.87091064453125,
          -73.96022033691406,
          -74.006103515625,
          -73.87297058105469,
          -73.95574188232422,
          -73.99474334716798,
          -74.00937652587889,
          -73.96227264404298,
          -73.99005126953125,
          -73.98123931884764,
          -73.94797515869139,
          -73.97322082519531,
          -73.81601715087889,
          -73.97837829589844,
          -73.98914337158203,
          -73.97713470458984,
          -73.9704818725586,
          -73.97367095947266,
          -73.96649169921875,
          -73.78973388671875,
          -73.98358154296875,
          -74.00264739990233,
          -73.9896240234375,
          -73.950927734375,
          -73.97964477539062,
          -73.96475219726561,
          -73.98773956298828,
          -73.95085906982422,
          -73.99913024902342,
          -73.95313262939453,
          -73.97174835205078,
          -73.97832489013672,
          -73.9881591796875,
          -73.7889633178711,
          -73.86273193359375,
          -73.97496032714845,
          -73.98768615722656,
          -73.986572265625,
          -73.9821014404297,
          -73.98868560791014,
          -73.97991943359375,
          -74.00470733642578,
          -73.9773712158203,
          -74.00106048583984,
          -73.97400665283203,
          -74.00572967529298,
          -73.97319793701173,
          -73.9803466796875,
          -73.97261810302734,
          -73.95037841796875,
          -73.958984375,
          -74.01109313964845,
          -74.00827026367188,
          -74.01564788818358,
          -73.96155548095702
         ],
         "marker": {
          "color": "#636efa"
         },
         "mode": "markers",
         "name": "",
         "showlegend": false,
         "subplot": "mapbox",
         "type": "scattermapbox"
        },
        {
         "customdata": [
          [
           0.98,
           5.33,
           "early_morning"
          ],
          [
           0.48,
           2,
           "morning"
          ],
          [
           1.88,
           10.48,
           "evening"
          ],
          [
           0.86,
           2.75,
           "early_morning"
          ],
          [
           0.76,
           10,
           "morning"
          ],
          [
           2.76,
           11.02,
           "morning"
          ],
          [
           0.86,
           7.6,
           "evening"
          ],
          [
           0.79,
           8.15,
           "evening"
          ],
          [
           2.03,
           12.65,
           "night"
          ],
          [
           1.31,
           2.72,
           "middle_of_night"
          ],
          [
           4.65,
           14.18,
           "night"
          ],
          [
           1.99,
           14.03,
           "morning"
          ],
          [
           1.47,
           10.7,
           "night"
          ],
          [
           1.12,
           3.28,
           "morning"
          ],
          [
           2.11,
           8,
           "middle_of_night"
          ],
          [
           0.58,
           5.83,
           "morning"
          ],
          [
           4.77,
           36.77,
           "afternoon"
          ],
          [
           12.67,
           66.98,
           "afternoon"
          ],
          [
           0.88,
           7.1,
           "afternoon"
          ],
          [
           1.87,
           11.5,
           "night"
          ],
          [
           1.63,
           5.72,
           "night"
          ],
          [
           2.1,
           18.25,
           "afternoon"
          ],
          [
           0.39,
           2.55,
           "afternoon"
          ],
          [
           2.04,
           14.02,
           "night"
          ],
          [
           1.96,
           12.48,
           "afternoon"
          ],
          [
           7.47,
           41.98,
           "evening"
          ],
          [
           1.63,
           8.65,
           "morning"
          ],
          [
           0.99,
           6.78,
           "night"
          ],
          [
           10.67,
           75.22,
           "evening"
          ],
          [
           1.19,
           13.2,
           "morning"
          ],
          [
           0.83,
           3.63,
           "early_morning"
          ],
          [
           2.54,
           24.25,
           "evening"
          ],
          [
           1.67,
           11.3,
           "morning"
          ],
          [
           0.96,
           10.95,
           "evening"
          ],
          [
           1.92,
           13.63,
           "middle_of_night"
          ],
          [
           0.35,
           2.5,
           "night"
          ],
          [
           15.37,
           68.22,
           "afternoon"
          ],
          [
           4.54,
           12.7,
           "night"
          ],
          [
           0.54,
           2.97,
           "evening"
          ],
          [
           1.62,
           12.65,
           "afternoon"
          ],
          [
           0.69,
           4.85,
           "morning"
          ],
          [
           0.94,
           9.33,
           "evening"
          ],
          [
           2.27,
           12.93,
           "early_morning"
          ],
          [
           0.82,
           19.85,
           "morning"
          ],
          [
           13.6,
           41.2,
           "morning"
          ],
          [
           0.56,
           7.35,
           "evening"
          ],
          [
           3.84,
           40.13,
           "afternoon"
          ],
          [
           1.54,
           10.95,
           "evening"
          ],
          [
           8.05,
           29.2,
           "evening"
          ],
          [
           1.2,
           8.48,
           "night"
          ],
          [
           0.63,
           6.07,
           "morning"
          ],
          [
           0.6,
           3.6,
           "morning"
          ],
          [
           1.14,
           10,
           "evening"
          ],
          [
           1.45,
           10.62,
           "morning"
          ],
          [
           0.73,
           4.57,
           "night"
          ],
          [
           2.44,
           17.67,
           "night"
          ],
          [
           1.06,
           6.73,
           "night"
          ],
          [
           1.95,
           11.27,
           "middle_of_night"
          ],
          [
           7.04,
           19.47,
           "night"
          ],
          [
           8.31,
           56.73,
           "afternoon"
          ],
          [
           1.87,
           12.1,
           "early_morning"
          ],
          [
           2.22,
           19.55,
           "middle_of_night"
          ],
          [
           2.09,
           15.07,
           "afternoon"
          ],
          [
           1.58,
           13.95,
           "afternoon"
          ],
          [
           2.16,
           43.93,
           "night"
          ],
          [
           0.36,
           2.7,
           "morning"
          ],
          [
           0.78,
           4.93,
           "evening"
          ],
          [
           0.85,
           5.07,
           "morning"
          ],
          [
           1.31,
           5.42,
           "middle_of_night"
          ],
          [
           2.2,
           12.98,
           "afternoon"
          ],
          [
           1.52,
           20.1,
           "middle_of_night"
          ],
          [
           1.63,
           13.17,
           "afternoon"
          ],
          [
           2.05,
           8.32,
           "afternoon"
          ],
          [
           2.33,
           8.78,
           "early_morning"
          ],
          [
           2.92,
           13.7,
           "morning"
          ],
          [
           1.69,
           11.23,
           "afternoon"
          ],
          [
           0.45,
           1.77,
           "afternoon"
          ],
          [
           6.43,
           15.38,
           "middle_of_night"
          ],
          [
           2.5,
           29.32,
           "afternoon"
          ],
          [
           1.53,
           9.85,
           "night"
          ]
         ],
         "hovertemplate": "<br><b>Distance</b>: %{customdata[0]: .2f} miles<br><br><b>Duration </b>: %{customdata[1]: .2f} min<br><br><b>Time </b>: %{customdata[2]}<br>",
         "lat": [
          40.75089645385742,
          40.75495910644531,
          40.77301025390625,
          40.757183074951165,
          40.75160217285156,
          40.71343994140625,
          40.74472427368164,
          40.75748062133789,
          40.75403594970703,
          40.76338577270508,
          40.78534698486328,
          40.77824783325195,
          40.72210693359375,
          40.78108978271485,
          40.76446914672852,
          40.74578857421875,
          40.722930908203125,
          40.764846801757805,
          40.755565643310554,
          40.737152099609375,
          40.68498992919922,
          40.717529296875,
          40.766555786132805,
          40.72160720825195,
          40.75399017333984,
          40.77376174926758,
          40.76622772216797,
          40.714519500732415,
          40.77421188354492,
          40.76840972900391,
          40.76556396484375,
          40.7153205871582,
          40.77904891967773,
          40.73318862915039,
          40.75014114379882,
          40.77048110961913,
          40.74995040893555,
          40.704498291015625,
          40.7830924987793,
          40.77671813964844,
          40.75858688354492,
          40.7551383972168,
          40.79227828979492,
          40.753463745117195,
          40.64370346069336,
          40.74371719360352,
          40.7333984375,
          40.75650024414063,
          40.7789421081543,
          40.76493835449219,
          40.75601959228516,
          40.738468170166016,
          40.77897644042969,
          40.73337173461913,
          40.76677703857422,
          40.7615623474121,
          40.77804183959961,
          40.72272109985352,
          40.64094161987305,
          40.76900863647461,
          40.75577545166016,
          40.75490188598633,
          40.732330322265625,
          40.73178482055664,
          40.758613586425774,
          40.72695159912109,
          40.75204849243164,
          40.68524932861328,
          40.73653030395508,
          40.76022338867188,
          40.74034118652344,
          40.74822998046875,
          40.76519012451172,
          40.752796173095696,
          40.77157211303711,
          40.76792144775391,
          40.71636962890625,
          40.71177673339844,
          40.710819244384766,
          40.76470565795898
         ],
         "line": {
          "color": "purple",
          "width": 2
         },
         "lon": [
          -73.99070739746092,
          -73.97563934326173,
          -73.9584732055664,
          -73.99015045166014,
          -73.98016357421875,
          -74.0037384033203,
          -73.99109649658203,
          -73.98377990722656,
          -73.97406005859375,
          -73.9720687866211,
          -73.95582580566406,
          -73.95646667480467,
          -73.99713134765625,
          -73.95873260498048,
          -73.98246002197266,
          -73.92189025878906,
          -73.99813079833984,
          -73.96308898925781,
          -73.98766326904298,
          -74.0017852783203,
          -74.0028076171875,
          -74.00025939941406,
          -73.98296356201173,
          -73.99337768554686,
          -73.97525024414062,
          -73.87091064453125,
          -73.96022033691406,
          -74.006103515625,
          -73.87297058105469,
          -73.95574188232422,
          -73.99474334716798,
          -74.00937652587889,
          -73.96227264404298,
          -73.99005126953125,
          -73.98123931884764,
          -73.94797515869139,
          -73.97322082519531,
          -73.81601715087889,
          -73.97837829589844,
          -73.98914337158203,
          -73.97713470458984,
          -73.9704818725586,
          -73.97367095947266,
          -73.96649169921875,
          -73.78973388671875,
          -73.98358154296875,
          -74.00264739990233,
          -73.9896240234375,
          -73.950927734375,
          -73.97964477539062,
          -73.96475219726561,
          -73.98773956298828,
          -73.95085906982422,
          -73.99913024902342,
          -73.95313262939453,
          -73.97174835205078,
          -73.97832489013672,
          -73.9881591796875,
          -73.7889633178711,
          -73.86273193359375,
          -73.97496032714845,
          -73.98768615722656,
          -73.986572265625,
          -73.9821014404297,
          -73.98868560791014,
          -73.97991943359375,
          -74.00470733642578,
          -73.9773712158203,
          -74.00106048583984,
          -73.97400665283203,
          -74.00572967529298,
          -73.97319793701173,
          -73.9803466796875,
          -73.97261810302734,
          -73.95037841796875,
          -73.958984375,
          -74.01109313964845,
          -74.00827026367188,
          -74.01564788818358,
          -73.96155548095702
         ],
         "marker": {
          "size": 15
         },
         "mode": "lines",
         "opacity": 0.5,
         "showlegend": false,
         "text": [
          -73.99070739746092,
          -73.97563934326173,
          -73.9584732055664,
          -73.99015045166014,
          -73.98016357421875,
          -74.0037384033203,
          -73.99109649658203,
          -73.98377990722656,
          -73.97406005859375,
          -73.9720687866211,
          -73.95582580566406,
          -73.95646667480467,
          -73.99713134765625,
          -73.95873260498048,
          -73.98246002197266,
          -73.92189025878906,
          -73.99813079833984,
          -73.96308898925781,
          -73.98766326904298,
          -74.0017852783203,
          -74.0028076171875,
          -74.00025939941406,
          -73.98296356201173,
          -73.99337768554686,
          -73.97525024414062,
          -73.87091064453125,
          -73.96022033691406,
          -74.006103515625,
          -73.87297058105469,
          -73.95574188232422,
          -73.99474334716798,
          -74.00937652587889,
          -73.96227264404298,
          -73.99005126953125,
          -73.98123931884764,
          -73.94797515869139,
          -73.97322082519531,
          -73.81601715087889,
          -73.97837829589844,
          -73.98914337158203,
          -73.97713470458984,
          -73.9704818725586,
          -73.97367095947266,
          -73.96649169921875,
          -73.78973388671875,
          -73.98358154296875,
          -74.00264739990233,
          -73.9896240234375,
          -73.950927734375,
          -73.97964477539062,
          -73.96475219726561,
          -73.98773956298828,
          -73.95085906982422,
          -73.99913024902342,
          -73.95313262939453,
          -73.97174835205078,
          -73.97832489013672,
          -73.9881591796875,
          -73.7889633178711,
          -73.86273193359375,
          -73.97496032714845,
          -73.98768615722656,
          -73.986572265625,
          -73.9821014404297,
          -73.98868560791014,
          -73.97991943359375,
          -74.00470733642578,
          -73.9773712158203,
          -74.00106048583984,
          -73.97400665283203,
          -74.00572967529298,
          -73.97319793701173,
          -73.9803466796875,
          -73.97261810302734,
          -73.95037841796875,
          -73.958984375,
          -74.01109313964845,
          -74.00827026367188,
          -74.01564788818358,
          -73.96155548095702
         ],
         "type": "scattermapbox"
        }
       ],
       "layout": {
        "height": 500,
        "hoverlabel": {
         "bgcolor": "#444444",
         "font": {
          "color": "white",
          "size": 12
         }
        },
        "legend": {
         "tracegroupgap": 0
        },
        "mapbox": {
         "center": {
          "lat": 40.747734451293944,
          "lon": -73.96913061141967
         },
         "domain": {
          "x": [
           0,
           1
          ],
          "y": [
           0,
           1
          ]
         },
         "style": "open-street-map",
         "zoom": 12
        },
        "margin": {
         "b": 0,
         "l": 0,
         "r": 0,
         "t": 0
        },
        "template": {
         "data": {
          "bar": [
           {
            "error_x": {
             "color": "#2a3f5f"
            },
            "error_y": {
             "color": "#2a3f5f"
            },
            "marker": {
             "line": {
              "color": "#E5ECF6",
              "width": 0.5
             },
             "pattern": {
              "fillmode": "overlay",
              "size": 10,
              "solidity": 0.2
             }
            },
            "type": "bar"
           }
          ],
          "barpolar": [
           {
            "marker": {
             "line": {
              "color": "#E5ECF6",
              "width": 0.5
             },
             "pattern": {
              "fillmode": "overlay",
              "size": 10,
              "solidity": 0.2
             }
            },
            "type": "barpolar"
           }
          ],
          "carpet": [
           {
            "aaxis": {
             "endlinecolor": "#2a3f5f",
             "gridcolor": "white",
             "linecolor": "white",
             "minorgridcolor": "white",
             "startlinecolor": "#2a3f5f"
            },
            "baxis": {
             "endlinecolor": "#2a3f5f",
             "gridcolor": "white",
             "linecolor": "white",
             "minorgridcolor": "white",
             "startlinecolor": "#2a3f5f"
            },
            "type": "carpet"
           }
          ],
          "choropleth": [
           {
            "colorbar": {
             "outlinewidth": 0,
             "ticks": ""
            },
            "type": "choropleth"
           }
          ],
          "contour": [
           {
            "colorbar": {
             "outlinewidth": 0,
             "ticks": ""
            },
            "colorscale": [
             [
              0,
              "#0d0887"
             ],
             [
              0.1111111111111111,
              "#46039f"
             ],
             [
              0.2222222222222222,
              "#7201a8"
             ],
             [
              0.3333333333333333,
              "#9c179e"
             ],
             [
              0.4444444444444444,
              "#bd3786"
             ],
             [
              0.5555555555555556,
              "#d8576b"
             ],
             [
              0.6666666666666666,
              "#ed7953"
             ],
             [
              0.7777777777777778,
              "#fb9f3a"
             ],
             [
              0.8888888888888888,
              "#fdca26"
             ],
             [
              1,
              "#f0f921"
             ]
            ],
            "type": "contour"
           }
          ],
          "contourcarpet": [
           {
            "colorbar": {
             "outlinewidth": 0,
             "ticks": ""
            },
            "type": "contourcarpet"
           }
          ],
          "heatmap": [
           {
            "colorbar": {
             "outlinewidth": 0,
             "ticks": ""
            },
            "colorscale": [
             [
              0,
              "#0d0887"
             ],
             [
              0.1111111111111111,
              "#46039f"
             ],
             [
              0.2222222222222222,
              "#7201a8"
             ],
             [
              0.3333333333333333,
              "#9c179e"
             ],
             [
              0.4444444444444444,
              "#bd3786"
             ],
             [
              0.5555555555555556,
              "#d8576b"
             ],
             [
              0.6666666666666666,
              "#ed7953"
             ],
             [
              0.7777777777777778,
              "#fb9f3a"
             ],
             [
              0.8888888888888888,
              "#fdca26"
             ],
             [
              1,
              "#f0f921"
             ]
            ],
            "type": "heatmap"
           }
          ],
          "heatmapgl": [
           {
            "colorbar": {
             "outlinewidth": 0,
             "ticks": ""
            },
            "colorscale": [
             [
              0,
              "#0d0887"
             ],
             [
              0.1111111111111111,
              "#46039f"
             ],
             [
              0.2222222222222222,
              "#7201a8"
             ],
             [
              0.3333333333333333,
              "#9c179e"
             ],
             [
              0.4444444444444444,
              "#bd3786"
             ],
             [
              0.5555555555555556,
              "#d8576b"
             ],
             [
              0.6666666666666666,
              "#ed7953"
             ],
             [
              0.7777777777777778,
              "#fb9f3a"
             ],
             [
              0.8888888888888888,
              "#fdca26"
             ],
             [
              1,
              "#f0f921"
             ]
            ],
            "type": "heatmapgl"
           }
          ],
          "histogram": [
           {
            "marker": {
             "pattern": {
              "fillmode": "overlay",
              "size": 10,
              "solidity": 0.2
             }
            },
            "type": "histogram"
           }
          ],
          "histogram2d": [
           {
            "colorbar": {
             "outlinewidth": 0,
             "ticks": ""
            },
            "colorscale": [
             [
              0,
              "#0d0887"
             ],
             [
              0.1111111111111111,
              "#46039f"
             ],
             [
              0.2222222222222222,
              "#7201a8"
             ],
             [
              0.3333333333333333,
              "#9c179e"
             ],
             [
              0.4444444444444444,
              "#bd3786"
             ],
             [
              0.5555555555555556,
              "#d8576b"
             ],
             [
              0.6666666666666666,
              "#ed7953"
             ],
             [
              0.7777777777777778,
              "#fb9f3a"
             ],
             [
              0.8888888888888888,
              "#fdca26"
             ],
             [
              1,
              "#f0f921"
             ]
            ],
            "type": "histogram2d"
           }
          ],
          "histogram2dcontour": [
           {
            "colorbar": {
             "outlinewidth": 0,
             "ticks": ""
            },
            "colorscale": [
             [
              0,
              "#0d0887"
             ],
             [
              0.1111111111111111,
              "#46039f"
             ],
             [
              0.2222222222222222,
              "#7201a8"
             ],
             [
              0.3333333333333333,
              "#9c179e"
             ],
             [
              0.4444444444444444,
              "#bd3786"
             ],
             [
              0.5555555555555556,
              "#d8576b"
             ],
             [
              0.6666666666666666,
              "#ed7953"
             ],
             [
              0.7777777777777778,
              "#fb9f3a"
             ],
             [
              0.8888888888888888,
              "#fdca26"
             ],
             [
              1,
              "#f0f921"
             ]
            ],
            "type": "histogram2dcontour"
           }
          ],
          "mesh3d": [
           {
            "colorbar": {
             "outlinewidth": 0,
             "ticks": ""
            },
            "type": "mesh3d"
           }
          ],
          "parcoords": [
           {
            "line": {
             "colorbar": {
              "outlinewidth": 0,
              "ticks": ""
             }
            },
            "type": "parcoords"
           }
          ],
          "pie": [
           {
            "automargin": true,
            "type": "pie"
           }
          ],
          "scatter": [
           {
            "fillpattern": {
             "fillmode": "overlay",
             "size": 10,
             "solidity": 0.2
            },
            "type": "scatter"
           }
          ],
          "scatter3d": [
           {
            "line": {
             "colorbar": {
              "outlinewidth": 0,
              "ticks": ""
             }
            },
            "marker": {
             "colorbar": {
              "outlinewidth": 0,
              "ticks": ""
             }
            },
            "type": "scatter3d"
           }
          ],
          "scattercarpet": [
           {
            "marker": {
             "colorbar": {
              "outlinewidth": 0,
              "ticks": ""
             }
            },
            "type": "scattercarpet"
           }
          ],
          "scattergeo": [
           {
            "marker": {
             "colorbar": {
              "outlinewidth": 0,
              "ticks": ""
             }
            },
            "type": "scattergeo"
           }
          ],
          "scattergl": [
           {
            "marker": {
             "colorbar": {
              "outlinewidth": 0,
              "ticks": ""
             }
            },
            "type": "scattergl"
           }
          ],
          "scattermapbox": [
           {
            "marker": {
             "colorbar": {
              "outlinewidth": 0,
              "ticks": ""
             }
            },
            "type": "scattermapbox"
           }
          ],
          "scatterpolar": [
           {
            "marker": {
             "colorbar": {
              "outlinewidth": 0,
              "ticks": ""
             }
            },
            "type": "scatterpolar"
           }
          ],
          "scatterpolargl": [
           {
            "marker": {
             "colorbar": {
              "outlinewidth": 0,
              "ticks": ""
             }
            },
            "type": "scatterpolargl"
           }
          ],
          "scatterternary": [
           {
            "marker": {
             "colorbar": {
              "outlinewidth": 0,
              "ticks": ""
             }
            },
            "type": "scatterternary"
           }
          ],
          "surface": [
           {
            "colorbar": {
             "outlinewidth": 0,
             "ticks": ""
            },
            "colorscale": [
             [
              0,
              "#0d0887"
             ],
             [
              0.1111111111111111,
              "#46039f"
             ],
             [
              0.2222222222222222,
              "#7201a8"
             ],
             [
              0.3333333333333333,
              "#9c179e"
             ],
             [
              0.4444444444444444,
              "#bd3786"
             ],
             [
              0.5555555555555556,
              "#d8576b"
             ],
             [
              0.6666666666666666,
              "#ed7953"
             ],
             [
              0.7777777777777778,
              "#fb9f3a"
             ],
             [
              0.8888888888888888,
              "#fdca26"
             ],
             [
              1,
              "#f0f921"
             ]
            ],
            "type": "surface"
           }
          ],
          "table": [
           {
            "cells": {
             "fill": {
              "color": "#EBF0F8"
             },
             "line": {
              "color": "white"
             }
            },
            "header": {
             "fill": {
              "color": "#C8D4E3"
             },
             "line": {
              "color": "white"
             }
            },
            "type": "table"
           }
          ]
         },
         "layout": {
          "annotationdefaults": {
           "arrowcolor": "#2a3f5f",
           "arrowhead": 0,
           "arrowwidth": 1
          },
          "autotypenumbers": "strict",
          "coloraxis": {
           "colorbar": {
            "outlinewidth": 0,
            "ticks": ""
           }
          },
          "colorscale": {
           "diverging": [
            [
             0,
             "#8e0152"
            ],
            [
             0.1,
             "#c51b7d"
            ],
            [
             0.2,
             "#de77ae"
            ],
            [
             0.3,
             "#f1b6da"
            ],
            [
             0.4,
             "#fde0ef"
            ],
            [
             0.5,
             "#f7f7f7"
            ],
            [
             0.6,
             "#e6f5d0"
            ],
            [
             0.7,
             "#b8e186"
            ],
            [
             0.8,
             "#7fbc41"
            ],
            [
             0.9,
             "#4d9221"
            ],
            [
             1,
             "#276419"
            ]
           ],
           "sequential": [
            [
             0,
             "#0d0887"
            ],
            [
             0.1111111111111111,
             "#46039f"
            ],
            [
             0.2222222222222222,
             "#7201a8"
            ],
            [
             0.3333333333333333,
             "#9c179e"
            ],
            [
             0.4444444444444444,
             "#bd3786"
            ],
            [
             0.5555555555555556,
             "#d8576b"
            ],
            [
             0.6666666666666666,
             "#ed7953"
            ],
            [
             0.7777777777777778,
             "#fb9f3a"
            ],
            [
             0.8888888888888888,
             "#fdca26"
            ],
            [
             1,
             "#f0f921"
            ]
           ],
           "sequentialminus": [
            [
             0,
             "#0d0887"
            ],
            [
             0.1111111111111111,
             "#46039f"
            ],
            [
             0.2222222222222222,
             "#7201a8"
            ],
            [
             0.3333333333333333,
             "#9c179e"
            ],
            [
             0.4444444444444444,
             "#bd3786"
            ],
            [
             0.5555555555555556,
             "#d8576b"
            ],
            [
             0.6666666666666666,
             "#ed7953"
            ],
            [
             0.7777777777777778,
             "#fb9f3a"
            ],
            [
             0.8888888888888888,
             "#fdca26"
            ],
            [
             1,
             "#f0f921"
            ]
           ]
          },
          "colorway": [
           "#636efa",
           "#EF553B",
           "#00cc96",
           "#ab63fa",
           "#FFA15A",
           "#19d3f3",
           "#FF6692",
           "#B6E880",
           "#FF97FF",
           "#FECB52"
          ],
          "font": {
           "color": "#2a3f5f"
          },
          "geo": {
           "bgcolor": "white",
           "lakecolor": "white",
           "landcolor": "#E5ECF6",
           "showlakes": true,
           "showland": true,
           "subunitcolor": "white"
          },
          "hoverlabel": {
           "align": "left"
          },
          "hovermode": "closest",
          "mapbox": {
           "style": "light"
          },
          "paper_bgcolor": "white",
          "plot_bgcolor": "#E5ECF6",
          "polar": {
           "angularaxis": {
            "gridcolor": "white",
            "linecolor": "white",
            "ticks": ""
           },
           "bgcolor": "#E5ECF6",
           "radialaxis": {
            "gridcolor": "white",
            "linecolor": "white",
            "ticks": ""
           }
          },
          "scene": {
           "xaxis": {
            "backgroundcolor": "#E5ECF6",
            "gridcolor": "white",
            "gridwidth": 2,
            "linecolor": "white",
            "showbackground": true,
            "ticks": "",
            "zerolinecolor": "white"
           },
           "yaxis": {
            "backgroundcolor": "#E5ECF6",
            "gridcolor": "white",
            "gridwidth": 2,
            "linecolor": "white",
            "showbackground": true,
            "ticks": "",
            "zerolinecolor": "white"
           },
           "zaxis": {
            "backgroundcolor": "#E5ECF6",
            "gridcolor": "white",
            "gridwidth": 2,
            "linecolor": "white",
            "showbackground": true,
            "ticks": "",
            "zerolinecolor": "white"
           }
          },
          "shapedefaults": {
           "line": {
            "color": "#2a3f5f"
           }
          },
          "ternary": {
           "aaxis": {
            "gridcolor": "white",
            "linecolor": "white",
            "ticks": ""
           },
           "baxis": {
            "gridcolor": "white",
            "linecolor": "white",
            "ticks": ""
           },
           "bgcolor": "#E5ECF6",
           "caxis": {
            "gridcolor": "white",
            "linecolor": "white",
            "ticks": ""
           }
          },
          "title": {
           "x": 0.05
          },
          "xaxis": {
           "automargin": true,
           "gridcolor": "white",
           "linecolor": "white",
           "ticks": "",
           "title": {
            "standoff": 15
           },
           "zerolinecolor": "white",
           "zerolinewidth": 2
          },
          "yaxis": {
           "automargin": true,
           "gridcolor": "white",
           "linecolor": "white",
           "ticks": "",
           "title": {
            "standoff": 15
           },
           "zerolinecolor": "white",
           "zerolinewidth": 2
          }
         }
        },
        "width": 800
       }
      }
     },
     "metadata": {},
     "output_type": "display_data"
    }
   ],
   "source": [
    "# @title 3.11 - 🗺 GEO-MAPPING { display-mode: \"form\" }\n",
    "routes_sample = trip_data.sample(80)\n",
    "routes_df = gpd.GeoDataFrame(\n",
    "    routes_sample,\n",
    "    geometry=gpd.points_from_xy(routes_sample.pu_lon, routes_sample.pu_lat),\n",
    ")\n",
    "# Plot 80 routes on the map\n",
    "fig = px.scatter_mapbox(\n",
    "    routes_df,\n",
    "    lat=\"pu_lat\",\n",
    "    lon=\"pu_lon\",\n",
    "    zoom=12,\n",
    "    width=800,\n",
    "    height=500,\n",
    "    color_continuous_scale=px.colors.cyclical.IceFire,\n",
    "    mapbox_style=\"open-street-map\",\n",
    ")\n",
    "fig.update_layout(mapbox_style=\"open-street-map\")\n",
    "fig.update_layout(margin={\"r\": 0, \"t\": 0, \"l\": 0, \"b\": 0})\n",
    "fig.update_layout(hoverlabel=dict(bgcolor=\"#444444\", font_size=12, font_color=\"white\"))\n",
    "fig.add_trace(\n",
    "    go.Scattermapbox(\n",
    "        mode=\"lines\",\n",
    "        lon=routes_df[\"pu_lon\"],\n",
    "        lat=routes_df[\"pu_lat\"],\n",
    "        marker={\"size\": 15},\n",
    "        line=dict(width=2, color=\"purple\"),\n",
    "        text=routes_df[\"pu_lon\"],\n",
    "        opacity=0.5,\n",
    "        showlegend=False,\n",
    "        customdata=np.stack(\n",
    "            (routes_df[\"dis_mi\"], routes_df[\"dur_min\"], routes_df[\"pu_dtc\"]), axis=-1\n",
    "        ),\n",
    "    )\n",
    ")\n",
    "fig.update_traces(\n",
    "    hovertemplate=(\n",
    "        \"<br><b>Distance</b>: %{customdata[0]: .2f} miles<br>\"\n",
    "        + \"<br><b>Duration </b>: %{customdata[1]: .2f} min<br>\"\n",
    "        + \"<br><b>Time </b>: %{customdata[2]}<br>\"\n",
    "    )\n",
    ")\n",
    "fig.show()"
   ]
  },
  {
   "cell_type": "markdown",
   "metadata": {},
   "source": [
    "## Streamlit App"
   ]
  },
  {
   "cell_type": "code",
   "execution_count": 59,
   "metadata": {},
   "outputs": [],
   "source": [
    "import streamlit as st\n",
    "import pandas as pd\n",
    "import altair as alt\n",
    "import plotly.express as px"
   ]
  },
  {
   "cell_type": "code",
   "execution_count": 60,
   "metadata": {},
   "outputs": [
    {
     "data": {
      "text/plain": [
       "ThemeRegistry.enable('dark')"
      ]
     },
     "execution_count": 60,
     "metadata": {},
     "output_type": "execute_result"
    }
   ],
   "source": [
    "st.set_page_config(\n",
    "    page_title=\"NYC Taxi Data Analysis\",\n",
    "    page_icon=\"🏂\",\n",
    "    layout=\"wide\",\n",
    "    initial_sidebar_state=\"expanded\",\n",
    ")\n",
    "\n",
    "alt.themes.enable(\"dark\")"
   ]
  },
  {
   "cell_type": "code",
   "execution_count": 61,
   "metadata": {},
   "outputs": [],
   "source": [
    "col = st.columns((1.5, 4.5, 2))"
   ]
  },
  {
   "cell_type": "code",
   "execution_count": 62,
   "metadata": {},
   "outputs": [
    {
     "name": "stderr",
     "output_type": "stream",
     "text": [
      "2024-11-23 23:00:04.115 \n",
      "  \u001b[33m\u001b[1mWarning:\u001b[0m to view this Streamlit app on a browser, run it with the following\n",
      "  command:\n",
      "\n",
      "    streamlit run c:\\Python39\\lib\\site-packages\\ipykernel_launcher.py [ARGUMENTS]\n"
     ]
    }
   ],
   "source": [
    "with col[0]: \n",
    "    st.markdown(\"#### Interactive Route Map\")\n",
    "    st.plotly_chart(fig, use_container_width=True)"
   ]
  },
  {
   "cell_type": "code",
   "execution_count": 63,
   "metadata": {},
   "outputs": [],
   "source": [
    "with col[1]:\n",
    "    st.markdown(\"#### Interactive Route Map\")\n",
    "    st.plotly_chart(fig, use_container_width=True)"
   ]
  },
  {
   "cell_type": "code",
   "execution_count": 64,
   "metadata": {},
   "outputs": [],
   "source": [
    "with col[2]:\n",
    "    st.markdown(\"#### Interactive Route Map\")\n",
    "    st.plotly_chart(fig, use_container_width=True)"
   ]
  }
 ],
 "metadata": {
  "kernelspec": {
   "display_name": "Python 3",
   "language": "python",
   "name": "python3"
  },
  "language_info": {
   "codemirror_mode": {
    "name": "ipython",
    "version": 3
   },
   "file_extension": ".py",
   "mimetype": "text/x-python",
   "name": "python",
   "nbconvert_exporter": "python",
   "pygments_lexer": "ipython3",
   "version": "3.9.7"
  }
 },
 "nbformat": 4,
 "nbformat_minor": 2
}
