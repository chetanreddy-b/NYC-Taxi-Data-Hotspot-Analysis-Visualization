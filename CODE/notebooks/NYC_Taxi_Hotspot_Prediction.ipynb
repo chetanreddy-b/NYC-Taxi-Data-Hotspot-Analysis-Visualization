{
 "cells": [
  {
   "cell_type": "code",
   "execution_count": 22,
   "metadata": {},
   "outputs": [
    {
     "name": "stdout",
     "output_type": "stream",
     "text": [
      "Requirement already satisfied: lightgbm in /Users/chetanreddy.b/.pyenv/versions/3.12.6/lib/python3.12/site-packages (4.5.0)\n",
      "Requirement already satisfied: numpy>=1.17.0 in /Users/chetanreddy.b/.pyenv/versions/3.12.6/lib/python3.12/site-packages (from lightgbm) (2.1.3)\n",
      "Requirement already satisfied: scipy in /Users/chetanreddy.b/.pyenv/versions/3.12.6/lib/python3.12/site-packages (from lightgbm) (1.14.1)\n",
      "\n",
      "\u001b[1m[\u001b[0m\u001b[34;49mnotice\u001b[0m\u001b[1;39;49m]\u001b[0m\u001b[39;49m A new release of pip is available: \u001b[0m\u001b[31;49m24.2\u001b[0m\u001b[39;49m -> \u001b[0m\u001b[32;49m24.3.1\u001b[0m\n",
      "\u001b[1m[\u001b[0m\u001b[34;49mnotice\u001b[0m\u001b[1;39;49m]\u001b[0m\u001b[39;49m To update, run: \u001b[0m\u001b[32;49mpip install --upgrade pip\u001b[0m\n"
     ]
    }
   ],
   "source": [
    "!pip install lightgbm"
   ]
  },
  {
   "cell_type": "code",
   "execution_count": 23,
   "metadata": {},
   "outputs": [],
   "source": [
    "import pandas as pd\n",
    "import numpy as np\n",
    "from sklearn.model_selection import train_test_split\n",
    "from sklearn.ensemble import RandomForestRegressor\n",
    "from sklearn.tree import DecisionTreeRegressor\n",
    "from xgboost import XGBRegressor\n",
    "from sklearn.preprocessing import LabelEncoder\n",
    "from sklearn.metrics import r2_score, mean_squared_error\n",
    "import joblib\n",
    "import os\n",
    "import matplotlib.pyplot as plt\n",
    "import seaborn as sns\n",
    "import lightgbm"
   ]
  },
  {
   "cell_type": "code",
   "execution_count": 24,
   "metadata": {},
   "outputs": [
    {
     "name": "stdout",
     "output_type": "stream",
     "text": [
      "Data Head:\n"
     ]
    },
    {
     "data": {
      "text/html": [
       "<div>\n",
       "<style scoped>\n",
       "    .dataframe tbody tr th:only-of-type {\n",
       "        vertical-align: middle;\n",
       "    }\n",
       "\n",
       "    .dataframe tbody tr th {\n",
       "        vertical-align: top;\n",
       "    }\n",
       "\n",
       "    .dataframe thead th {\n",
       "        text-align: right;\n",
       "    }\n",
       "</style>\n",
       "<table border=\"1\" class=\"dataframe\">\n",
       "  <thead>\n",
       "    <tr style=\"text-align: right;\">\n",
       "      <th></th>\n",
       "      <th>LocationID</th>\n",
       "      <th>time_bin</th>\n",
       "      <th>pickups</th>\n",
       "      <th>day_of_week</th>\n",
       "      <th>hour</th>\n",
       "      <th>month</th>\n",
       "      <th>day</th>\n",
       "      <th>year</th>\n",
       "      <th>weekend</th>\n",
       "    </tr>\n",
       "  </thead>\n",
       "  <tbody>\n",
       "    <tr>\n",
       "      <th>0</th>\n",
       "      <td>1</td>\n",
       "      <td>2016-01-01 02:00:00</td>\n",
       "      <td>1</td>\n",
       "      <td>4</td>\n",
       "      <td>2</td>\n",
       "      <td>1</td>\n",
       "      <td>1</td>\n",
       "      <td>2016</td>\n",
       "      <td>False</td>\n",
       "    </tr>\n",
       "    <tr>\n",
       "      <th>1</th>\n",
       "      <td>1</td>\n",
       "      <td>2016-01-01 04:00:00</td>\n",
       "      <td>1</td>\n",
       "      <td>4</td>\n",
       "      <td>4</td>\n",
       "      <td>1</td>\n",
       "      <td>1</td>\n",
       "      <td>2016</td>\n",
       "      <td>False</td>\n",
       "    </tr>\n",
       "    <tr>\n",
       "      <th>2</th>\n",
       "      <td>1</td>\n",
       "      <td>2016-01-01 05:00:00</td>\n",
       "      <td>1</td>\n",
       "      <td>4</td>\n",
       "      <td>5</td>\n",
       "      <td>1</td>\n",
       "      <td>1</td>\n",
       "      <td>2016</td>\n",
       "      <td>False</td>\n",
       "    </tr>\n",
       "    <tr>\n",
       "      <th>3</th>\n",
       "      <td>1</td>\n",
       "      <td>2016-01-01 07:00:00</td>\n",
       "      <td>1</td>\n",
       "      <td>4</td>\n",
       "      <td>7</td>\n",
       "      <td>1</td>\n",
       "      <td>1</td>\n",
       "      <td>2016</td>\n",
       "      <td>False</td>\n",
       "    </tr>\n",
       "    <tr>\n",
       "      <th>4</th>\n",
       "      <td>1</td>\n",
       "      <td>2016-01-01 10:00:00</td>\n",
       "      <td>1</td>\n",
       "      <td>4</td>\n",
       "      <td>10</td>\n",
       "      <td>1</td>\n",
       "      <td>1</td>\n",
       "      <td>2016</td>\n",
       "      <td>False</td>\n",
       "    </tr>\n",
       "  </tbody>\n",
       "</table>\n",
       "</div>"
      ],
      "text/plain": [
       "   LocationID             time_bin  pickups  day_of_week  hour  month  day  \\\n",
       "0           1  2016-01-01 02:00:00        1            4     2      1    1   \n",
       "1           1  2016-01-01 04:00:00        1            4     4      1    1   \n",
       "2           1  2016-01-01 05:00:00        1            4     5      1    1   \n",
       "3           1  2016-01-01 07:00:00        1            4     7      1    1   \n",
       "4           1  2016-01-01 10:00:00        1            4    10      1    1   \n",
       "\n",
       "   year  weekend  \n",
       "0  2016    False  \n",
       "1  2016    False  \n",
       "2  2016    False  \n",
       "3  2016    False  \n",
       "4  2016    False  "
      ]
     },
     "metadata": {},
     "output_type": "display_data"
    },
    {
     "name": "stdout",
     "output_type": "stream",
     "text": [
      "\n",
      "Data Info:\n",
      "<class 'pandas.core.frame.DataFrame'>\n",
      "RangeIndex: 1112942 entries, 0 to 1112941\n",
      "Data columns (total 9 columns):\n",
      " #   Column       Non-Null Count    Dtype \n",
      "---  ------       --------------    ----- \n",
      " 0   LocationID   1112942 non-null  int64 \n",
      " 1   time_bin     1112942 non-null  object\n",
      " 2   pickups      1112942 non-null  int64 \n",
      " 3   day_of_week  1112942 non-null  int64 \n",
      " 4   hour         1112942 non-null  int64 \n",
      " 5   month        1112942 non-null  int64 \n",
      " 6   day          1112942 non-null  int64 \n",
      " 7   year         1112942 non-null  int64 \n",
      " 8   weekend      1112942 non-null  bool  \n",
      "dtypes: bool(1), int64(7), object(1)\n",
      "memory usage: 69.0+ MB\n",
      "\n",
      "Summary Statistics:\n"
     ]
    },
    {
     "data": {
      "text/html": [
       "<div>\n",
       "<style scoped>\n",
       "    .dataframe tbody tr th:only-of-type {\n",
       "        vertical-align: middle;\n",
       "    }\n",
       "\n",
       "    .dataframe tbody tr th {\n",
       "        vertical-align: top;\n",
       "    }\n",
       "\n",
       "    .dataframe thead th {\n",
       "        text-align: right;\n",
       "    }\n",
       "</style>\n",
       "<table border=\"1\" class=\"dataframe\">\n",
       "  <thead>\n",
       "    <tr style=\"text-align: right;\">\n",
       "      <th></th>\n",
       "      <th>LocationID</th>\n",
       "      <th>pickups</th>\n",
       "      <th>day_of_week</th>\n",
       "      <th>hour</th>\n",
       "      <th>month</th>\n",
       "      <th>day</th>\n",
       "      <th>year</th>\n",
       "    </tr>\n",
       "  </thead>\n",
       "  <tbody>\n",
       "    <tr>\n",
       "      <th>count</th>\n",
       "      <td>1.112942e+06</td>\n",
       "      <td>1.112942e+06</td>\n",
       "      <td>1.112942e+06</td>\n",
       "      <td>1.112942e+06</td>\n",
       "      <td>1.112942e+06</td>\n",
       "      <td>1.112942e+06</td>\n",
       "      <td>1112942.0</td>\n",
       "    </tr>\n",
       "    <tr>\n",
       "      <th>mean</th>\n",
       "      <td>1.404151e+02</td>\n",
       "      <td>1.178245e+02</td>\n",
       "      <td>3.069867e+00</td>\n",
       "      <td>1.155195e+01</td>\n",
       "      <td>6.476477e+00</td>\n",
       "      <td>1.574344e+01</td>\n",
       "      <td>2016.0</td>\n",
       "    </tr>\n",
       "    <tr>\n",
       "      <th>std</th>\n",
       "      <td>7.699671e+01</td>\n",
       "      <td>2.000225e+02</td>\n",
       "      <td>2.006259e+00</td>\n",
       "      <td>6.995260e+00</td>\n",
       "      <td>3.435898e+00</td>\n",
       "      <td>8.814855e+00</td>\n",
       "      <td>0.0</td>\n",
       "    </tr>\n",
       "    <tr>\n",
       "      <th>min</th>\n",
       "      <td>1.000000e+00</td>\n",
       "      <td>1.000000e+00</td>\n",
       "      <td>0.000000e+00</td>\n",
       "      <td>0.000000e+00</td>\n",
       "      <td>1.000000e+00</td>\n",
       "      <td>1.000000e+00</td>\n",
       "      <td>2016.0</td>\n",
       "    </tr>\n",
       "    <tr>\n",
       "      <th>25%</th>\n",
       "      <td>7.500000e+01</td>\n",
       "      <td>2.000000e+00</td>\n",
       "      <td>1.000000e+00</td>\n",
       "      <td>6.000000e+00</td>\n",
       "      <td>4.000000e+00</td>\n",
       "      <td>8.000000e+00</td>\n",
       "      <td>2016.0</td>\n",
       "    </tr>\n",
       "    <tr>\n",
       "      <th>50%</th>\n",
       "      <td>1.420000e+02</td>\n",
       "      <td>1.700000e+01</td>\n",
       "      <td>3.000000e+00</td>\n",
       "      <td>1.200000e+01</td>\n",
       "      <td>6.000000e+00</td>\n",
       "      <td>1.600000e+01</td>\n",
       "      <td>2016.0</td>\n",
       "    </tr>\n",
       "    <tr>\n",
       "      <th>75%</th>\n",
       "      <td>2.150000e+02</td>\n",
       "      <td>1.500000e+02</td>\n",
       "      <td>5.000000e+00</td>\n",
       "      <td>1.800000e+01</td>\n",
       "      <td>9.000000e+00</td>\n",
       "      <td>2.300000e+01</td>\n",
       "      <td>2016.0</td>\n",
       "    </tr>\n",
       "    <tr>\n",
       "      <th>max</th>\n",
       "      <td>2.650000e+02</td>\n",
       "      <td>3.957000e+03</td>\n",
       "      <td>6.000000e+00</td>\n",
       "      <td>2.300000e+01</td>\n",
       "      <td>1.200000e+01</td>\n",
       "      <td>3.100000e+01</td>\n",
       "      <td>2016.0</td>\n",
       "    </tr>\n",
       "  </tbody>\n",
       "</table>\n",
       "</div>"
      ],
      "text/plain": [
       "         LocationID       pickups   day_of_week          hour         month  \\\n",
       "count  1.112942e+06  1.112942e+06  1.112942e+06  1.112942e+06  1.112942e+06   \n",
       "mean   1.404151e+02  1.178245e+02  3.069867e+00  1.155195e+01  6.476477e+00   \n",
       "std    7.699671e+01  2.000225e+02  2.006259e+00  6.995260e+00  3.435898e+00   \n",
       "min    1.000000e+00  1.000000e+00  0.000000e+00  0.000000e+00  1.000000e+00   \n",
       "25%    7.500000e+01  2.000000e+00  1.000000e+00  6.000000e+00  4.000000e+00   \n",
       "50%    1.420000e+02  1.700000e+01  3.000000e+00  1.200000e+01  6.000000e+00   \n",
       "75%    2.150000e+02  1.500000e+02  5.000000e+00  1.800000e+01  9.000000e+00   \n",
       "max    2.650000e+02  3.957000e+03  6.000000e+00  2.300000e+01  1.200000e+01   \n",
       "\n",
       "                day       year  \n",
       "count  1.112942e+06  1112942.0  \n",
       "mean   1.574344e+01     2016.0  \n",
       "std    8.814855e+00        0.0  \n",
       "min    1.000000e+00     2016.0  \n",
       "25%    8.000000e+00     2016.0  \n",
       "50%    1.600000e+01     2016.0  \n",
       "75%    2.300000e+01     2016.0  \n",
       "max    3.100000e+01     2016.0  "
      ]
     },
     "metadata": {},
     "output_type": "display_data"
    }
   ],
   "source": [
    "# Load data\n",
    "data_csv = 'data/pickups_aggregated.csv'\n",
    "data = pd.read_csv(data_csv)\n",
    "\n",
    "# Display basic info\n",
    "print(\"Data Head:\")\n",
    "display(data.head())\n",
    "\n",
    "print(\"\\nData Info:\")\n",
    "data.info()\n",
    "\n",
    "print(\"\\nSummary Statistics:\")\n",
    "display(data.describe())"
   ]
  },
  {
   "cell_type": "code",
   "execution_count": 25,
   "metadata": {},
   "outputs": [
    {
     "name": "stdout",
     "output_type": "stream",
     "text": [
      "Missing Values:\n",
      "Series([], dtype: int64)\n"
     ]
    },
    {
     "data": {
      "image/png": "[encoded data removed]",
      "text/plain": [
       "<Figure size 640x480 with 1 Axes>"
      ]
     },
     "metadata": {},
     "output_type": "display_data"
    }
   ],
   "source": [
    "# Check missing values\n",
    "missing_values = data.isnull().sum()\n",
    "print(\"Missing Values:\")\n",
    "print(missing_values[missing_values > 0])\n",
    "\n",
    "# Plot distribution of pickups\n",
    "sns.histplot(data['pickups'], kde=True)\n",
    "plt.title(\"Distribution of Pickups\")\n",
    "plt.xlabel(\"Pickups\")\n",
    "plt.ylabel(\"Frequency\")\n",
    "plt.show()\n"
   ]
  },
  {
   "cell_type": "code",
   "execution_count": 26,
   "metadata": {},
   "outputs": [
    {
     "data": {
      "image/png": "[encoded data removed]",
      "text/plain": [
       "<Figure size 640x480 with 1 Axes>"
      ]
     },
     "metadata": {},
     "output_type": "display_data"
    }
   ],
   "source": [
    "data['pickup_log'] = np.log1p(data['pickups'])\n",
    "\n",
    "sns.histplot(data['pickup_log'], kde=True)\n",
    "plt.title(\"Distribution of Log-Transformed Pickups\")\n",
    "plt.xlabel(\"Log Pickups\")\n",
    "plt.ylabel(\"Frequency\")\n",
    "plt.show()\n"
   ]
  },
  {
   "cell_type": "code",
   "execution_count": 27,
   "metadata": {},
   "outputs": [
    {
     "name": "stdout",
     "output_type": "stream",
     "text": [
      "Applying label encoding to 'LocationID'...\n",
      "Features prepared and label encoding applied.\n"
     ]
    }
   ],
   "source": [
    "# Feature Preparation and Label Encoding\n",
    "from sklearn.preprocessing import LabelEncoder\n",
    "import joblib\n",
    "\n",
    "# Load the data\n",
    "data = pd.read_csv('data/pickups_aggregated.csv')\n",
    "\n",
    "# Add log-transformed target variable\n",
    "data['pickup_log'] = np.log1p(data['pickups'])\n",
    "\n",
    "# Specify feature columns\n",
    "features = ['LocationID', 'year', 'month', 'day', 'hour', 'day_of_week', 'weekend']\n",
    "X = data[features].copy()\n",
    "y = data['pickup_log']\n",
    "\n",
    "# Define all possible LocationIDs for label encoding\n",
    "all_location_ids = list(range(1, 266))  \n",
    "\n",
    "print(\"Applying label encoding to 'LocationID'...\")\n",
    "le = LabelEncoder()\n",
    "le.fit(all_location_ids)  \n",
    "X['LocationID'] = le.transform(X['LocationID'])\n",
    "\n",
    "# Save the label encoder for reuse\n",
    "os.makedirs('models', exist_ok=True)\n",
    "joblib.dump(le, 'models/locationid_label_encoder.pkl')\n",
    "\n",
    "print(\"Features prepared and label encoding applied.\")\n"
   ]
  },
  {
   "cell_type": "code",
   "execution_count": 28,
   "metadata": {},
   "outputs": [
    {
     "name": "stdout",
     "output_type": "stream",
     "text": [
      "Splitting data into training and test sets...\n"
     ]
    }
   ],
   "source": [
    "feature_names = X.columns\n",
    "\n",
    "print(\"Splitting data into training and test sets...\")\n",
    "X_train, X_test, y_train, y_test = train_test_split(X, y, test_size=0.2, random_state=42)"
   ]
  },
  {
   "cell_type": "code",
   "execution_count": 29,
   "metadata": {},
   "outputs": [
    {
     "name": "stdout",
     "output_type": "stream",
     "text": [
      "Random Forest R²: 0.9760\n",
      "Random Forest RMSE: 0.3076\n"
     ]
    }
   ],
   "source": [
    "rf_model = RandomForestRegressor(n_estimators=100, random_state=42, n_jobs=-1)\n",
    "rf_model.fit(X_train, y_train)\n",
    "\n",
    "y_pred_rf = rf_model.predict(X_test)\n",
    "r2_rf = r2_score(y_test, y_pred_rf)\n",
    "rmse_rf = np.sqrt(mean_squared_error(y_test, y_pred_rf))\n",
    "\n",
    "print(f\"Random Forest R²: {r2_rf:.4f}\")\n",
    "print(f\"Random Forest RMSE: {rmse_rf:.4f}\")\n"
   ]
  },
  {
   "cell_type": "code",
   "execution_count": 30,
   "metadata": {},
   "outputs": [
    {
     "name": "stdout",
     "output_type": "stream",
     "text": [
      "Decision Tree R²: 0.9571\n",
      "Decision Tree RMSE: 0.4110\n"
     ]
    }
   ],
   "source": [
    "dt_model = DecisionTreeRegressor(random_state=42)\n",
    "dt_model.fit(X_train, y_train)\n",
    "\n",
    "y_pred_dt = dt_model.predict(X_test)\n",
    "r2_dt = r2_score(y_test, y_pred_dt)\n",
    "rmse_dt = np.sqrt(mean_squared_error(y_test, y_pred_dt))\n",
    "\n",
    "print(f\"Decision Tree R²: {r2_dt:.4f}\")\n",
    "print(f\"Decision Tree RMSE: {rmse_dt:.4f}\")\n"
   ]
  },
  {
   "cell_type": "code",
   "execution_count": 31,
   "metadata": {},
   "outputs": [
    {
     "name": "stdout",
     "output_type": "stream",
     "text": [
      "XGBoost R²: 0.8436\n",
      "XGBoost RMSE: 0.7847\n"
     ]
    }
   ],
   "source": [
    "xgb_model = XGBRegressor(n_estimators=100, learning_rate=0.1, random_state=42, n_jobs=-1)\n",
    "xgb_model.fit(X_train, y_train)\n",
    "\n",
    "y_pred_xgb = xgb_model.predict(X_test)\n",
    "r2_xgb = r2_score(y_test, y_pred_xgb)\n",
    "rmse_xgb = np.sqrt(mean_squared_error(y_test, y_pred_xgb))\n",
    "\n",
    "print(f\"XGBoost R²: {r2_xgb:.4f}\")\n",
    "print(f\"XGBoost RMSE: {rmse_xgb:.4f}\")\n"
   ]
  },
  {
   "cell_type": "code",
   "execution_count": 32,
   "metadata": {},
   "outputs": [
    {
     "data": {
      "image/png": "[encoded data removed]",
      "text/plain": [
       "<Figure size 800x400 with 1 Axes>"
      ]
     },
     "metadata": {},
     "output_type": "display_data"
    },
    {
     "data": {
      "image/png": "[encoded data removed]",
      "text/plain": [
       "<Figure size 800x400 with 1 Axes>"
      ]
     },
     "metadata": {},
     "output_type": "display_data"
    }
   ],
   "source": [
    "models = ['Random Forest', 'Decision Tree', 'XGBoost']\n",
    "r2_scores = [r2_rf, r2_dt, r2_xgb]\n",
    "rmse_scores = [rmse_rf, rmse_dt, rmse_xgb]\n",
    "\n",
    "plt.figure(figsize=(8, 4))\n",
    "sns.barplot(x=models, y=r2_scores)\n",
    "plt.title(\"R² Score Comparison\")\n",
    "plt.ylabel(\"R² Score\")\n",
    "plt.show()\n",
    "\n",
    "plt.figure(figsize=(8, 4))\n",
    "sns.barplot(x=models, y=rmse_scores)\n",
    "plt.title(\"RMSE Score Comparison\")\n",
    "plt.ylabel(\"RMSE\")\n",
    "plt.show()\n"
   ]
  },
  {
   "cell_type": "code",
   "execution_count": null,
   "metadata": {},
   "outputs": [],
   "source": [
    "# model_output_path = 'models/random_forest.pkl'\n",
    "# os.makedirs('models', exist_ok=True)\n",
    "# joblib.dump({'model': rf_model, 'feature_names': feature_names}, model_output_path)"
   ]
  },
  {
   "cell_type": "code",
   "execution_count": 33,
   "metadata": {},
   "outputs": [
    {
     "name": "stdout",
     "output_type": "stream",
     "text": [
      "Random Forest R²: 0.9112\n",
      "Random Forest RMSE: 0.5912\n"
     ]
    }
   ],
   "source": [
    "rf_model = RandomForestRegressor(n_estimators=50, \n",
    "                                  max_depth=15, \n",
    "                                  min_samples_split=5, \n",
    "                                  min_samples_leaf=2, \n",
    "                                  random_state=42, \n",
    "                                  n_jobs=-1)\n",
    "rf_model.fit(X_train, y_train)\n",
    "\n",
    "y_pred_rf = rf_model.predict(X_test)\n",
    "r2_rf = r2_score(y_test, y_pred_rf)\n",
    "rmse_rf = np.sqrt(mean_squared_error(y_test, y_pred_rf))\n",
    "\n",
    "print(f\"Random Forest R²: {r2_rf:.4f}\")\n",
    "print(f\"Random Forest RMSE: {rmse_rf:.4f}\")\n",
    "\n",
    "# joblib.dump(rf_model, 'rf_model.pkl', compress=3)\n"
   ]
  },
  {
   "cell_type": "code",
   "execution_count": 34,
   "metadata": {},
   "outputs": [
    {
     "name": "stdout",
     "output_type": "stream",
     "text": [
      "[LightGBM] [Info] Auto-choosing row-wise multi-threading, the overhead of testing was 0.002755 seconds.\n",
      "You can set `force_row_wise=true` to remove the overhead.\n",
      "And if memory is not enough, you can set `force_col_wise=true`.\n",
      "[LightGBM] [Info] Total Bins 288\n",
      "[LightGBM] [Info] Number of data points in the train set: 890353, number of used features: 6\n",
      "[LightGBM] [Info] Start training from score 3.137769\n",
      "LightGBM R²: 0.9093\n",
      "LightGBM RMSE: 0.5977\n"
     ]
    }
   ],
   "source": [
    "from lightgbm import LGBMRegressor\n",
    "\n",
    "lgbm_model = LGBMRegressor(n_estimators=100, learning_rate=0.1, max_depth=15, random_state=42)\n",
    "lgbm_model.fit(X_train, y_train)\n",
    "\n",
    "y_pred_lgbm = lgbm_model.predict(X_test)\n",
    "r2_lgbm = r2_score(y_test, y_pred_lgbm)\n",
    "rmse_lgbm = np.sqrt(mean_squared_error(y_test, y_pred_lgbm))\n",
    "\n",
    "print(f\"LightGBM R²: {r2_lgbm:.4f}\")\n",
    "print(f\"LightGBM RMSE: {rmse_lgbm:.4f}\")\n"
   ]
  },
  {
   "cell_type": "code",
   "execution_count": null,
   "metadata": {},
   "outputs": [
    {
     "data": {
      "text/plain": [
       "['models/decision_tree.pkl']"
      ]
     },
     "execution_count": 36,
     "metadata": {},
     "output_type": "execute_result"
    }
   ],
   "source": [
    "# Using Decision tree instead of Random forest because the latter is too heavy for real time applications(6GB vs 100MB) \n",
    "model_output_path = 'models/decision_tree.pkl'\n",
    "os.makedirs('models', exist_ok=True)\n",
    "joblib.dump({'model': dt_model, 'feature_names': feature_names}, model_output_path)"
   ]
  }
 ],
 "metadata": {
  "kernelspec": {
   "display_name": "Python 3",
   "language": "python",
   "name": "python3"
  },
  "language_info": {
   "codemirror_mode": {
    "name": "ipython",
    "version": 3
   },
   "file_extension": ".py",
   "mimetype": "text/x-python",
   "name": "python",
   "nbconvert_exporter": "python",
   "pygments_lexer": "ipython3",
   "version": "3.12.6"
  }
 },
 "nbformat": 4,
 "nbformat_minor": 2
}
